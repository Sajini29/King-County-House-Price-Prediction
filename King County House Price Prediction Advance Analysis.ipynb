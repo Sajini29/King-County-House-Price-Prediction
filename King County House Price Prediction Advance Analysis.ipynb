{
 "cells": [
  {
   "cell_type": "markdown",
   "id": "bc63a2ff",
   "metadata": {},
   "source": [
    "### King County House Price"
   ]
  },
  {
   "cell_type": "markdown",
   "id": "4a9a9173",
   "metadata": {},
   "source": [
    "### Advance Analysis"
   ]
  },
  {
   "cell_type": "code",
   "execution_count": 1,
   "id": "3c41ed70",
   "metadata": {},
   "outputs": [],
   "source": [
    "import numpy as np\n",
    "import pandas as pd"
   ]
  },
  {
   "cell_type": "code",
   "execution_count": 2,
   "id": "75630fa6",
   "metadata": {},
   "outputs": [],
   "source": [
    "HPrice = pd.read_csv(\"kc_house_data.csv\")"
   ]
  },
  {
   "cell_type": "code",
   "execution_count": 3,
   "id": "4630657a",
   "metadata": {},
   "outputs": [
    {
     "data": {
      "text/plain": [
       "(21597, 21)"
      ]
     },
     "execution_count": 3,
     "metadata": {},
     "output_type": "execute_result"
    }
   ],
   "source": [
    "HPrice.shape"
   ]
  },
  {
   "cell_type": "code",
   "execution_count": 4,
   "id": "d8047754",
   "metadata": {},
   "outputs": [
    {
     "data": {
      "text/html": [
       "<div>\n",
       "<style scoped>\n",
       "    .dataframe tbody tr th:only-of-type {\n",
       "        vertical-align: middle;\n",
       "    }\n",
       "\n",
       "    .dataframe tbody tr th {\n",
       "        vertical-align: top;\n",
       "    }\n",
       "\n",
       "    .dataframe thead th {\n",
       "        text-align: right;\n",
       "    }\n",
       "</style>\n",
       "<table border=\"1\" class=\"dataframe\">\n",
       "  <thead>\n",
       "    <tr style=\"text-align: right;\">\n",
       "      <th></th>\n",
       "      <th>id</th>\n",
       "      <th>price</th>\n",
       "      <th>bedrooms</th>\n",
       "      <th>bathrooms</th>\n",
       "      <th>sqft_living</th>\n",
       "      <th>sqft_lot</th>\n",
       "      <th>floors</th>\n",
       "      <th>waterfront</th>\n",
       "      <th>view</th>\n",
       "      <th>condition</th>\n",
       "      <th>grade</th>\n",
       "      <th>sqft_above</th>\n",
       "      <th>sqft_basement</th>\n",
       "      <th>yr_built</th>\n",
       "      <th>yr_renovated</th>\n",
       "      <th>zipcode</th>\n",
       "      <th>lat</th>\n",
       "      <th>long</th>\n",
       "      <th>sqft_living15</th>\n",
       "      <th>sqft_lot15</th>\n",
       "    </tr>\n",
       "  </thead>\n",
       "  <tbody>\n",
       "    <tr>\n",
       "      <th>count</th>\n",
       "      <td>2.159700e+04</td>\n",
       "      <td>2.159700e+04</td>\n",
       "      <td>21597.000000</td>\n",
       "      <td>21597.000000</td>\n",
       "      <td>21597.000000</td>\n",
       "      <td>2.159700e+04</td>\n",
       "      <td>21597.000000</td>\n",
       "      <td>21597.000000</td>\n",
       "      <td>21597.000000</td>\n",
       "      <td>21597.000000</td>\n",
       "      <td>21597.000000</td>\n",
       "      <td>21597.000000</td>\n",
       "      <td>21597.000000</td>\n",
       "      <td>21597.000000</td>\n",
       "      <td>21597.000000</td>\n",
       "      <td>21597.000000</td>\n",
       "      <td>21597.000000</td>\n",
       "      <td>21597.000000</td>\n",
       "      <td>21597.000000</td>\n",
       "      <td>21597.000000</td>\n",
       "    </tr>\n",
       "    <tr>\n",
       "      <th>mean</th>\n",
       "      <td>4.580474e+09</td>\n",
       "      <td>5.402966e+05</td>\n",
       "      <td>3.373200</td>\n",
       "      <td>2.115826</td>\n",
       "      <td>2080.321850</td>\n",
       "      <td>1.509941e+04</td>\n",
       "      <td>1.494096</td>\n",
       "      <td>0.007547</td>\n",
       "      <td>0.234292</td>\n",
       "      <td>3.409825</td>\n",
       "      <td>7.657915</td>\n",
       "      <td>1788.596842</td>\n",
       "      <td>291.725008</td>\n",
       "      <td>1970.999676</td>\n",
       "      <td>84.464787</td>\n",
       "      <td>98077.951845</td>\n",
       "      <td>47.560093</td>\n",
       "      <td>-122.213982</td>\n",
       "      <td>1986.620318</td>\n",
       "      <td>12758.283512</td>\n",
       "    </tr>\n",
       "    <tr>\n",
       "      <th>std</th>\n",
       "      <td>2.876736e+09</td>\n",
       "      <td>3.673681e+05</td>\n",
       "      <td>0.926299</td>\n",
       "      <td>0.768984</td>\n",
       "      <td>918.106125</td>\n",
       "      <td>4.141264e+04</td>\n",
       "      <td>0.539683</td>\n",
       "      <td>0.086549</td>\n",
       "      <td>0.766390</td>\n",
       "      <td>0.650546</td>\n",
       "      <td>1.173200</td>\n",
       "      <td>827.759761</td>\n",
       "      <td>442.667800</td>\n",
       "      <td>29.375234</td>\n",
       "      <td>401.821438</td>\n",
       "      <td>53.513072</td>\n",
       "      <td>0.138552</td>\n",
       "      <td>0.140724</td>\n",
       "      <td>685.230472</td>\n",
       "      <td>27274.441950</td>\n",
       "    </tr>\n",
       "    <tr>\n",
       "      <th>min</th>\n",
       "      <td>1.000102e+06</td>\n",
       "      <td>7.800000e+04</td>\n",
       "      <td>1.000000</td>\n",
       "      <td>0.500000</td>\n",
       "      <td>370.000000</td>\n",
       "      <td>5.200000e+02</td>\n",
       "      <td>1.000000</td>\n",
       "      <td>0.000000</td>\n",
       "      <td>0.000000</td>\n",
       "      <td>1.000000</td>\n",
       "      <td>3.000000</td>\n",
       "      <td>370.000000</td>\n",
       "      <td>0.000000</td>\n",
       "      <td>1900.000000</td>\n",
       "      <td>0.000000</td>\n",
       "      <td>98001.000000</td>\n",
       "      <td>47.155900</td>\n",
       "      <td>-122.519000</td>\n",
       "      <td>399.000000</td>\n",
       "      <td>651.000000</td>\n",
       "    </tr>\n",
       "    <tr>\n",
       "      <th>25%</th>\n",
       "      <td>2.123049e+09</td>\n",
       "      <td>3.220000e+05</td>\n",
       "      <td>3.000000</td>\n",
       "      <td>1.750000</td>\n",
       "      <td>1430.000000</td>\n",
       "      <td>5.040000e+03</td>\n",
       "      <td>1.000000</td>\n",
       "      <td>0.000000</td>\n",
       "      <td>0.000000</td>\n",
       "      <td>3.000000</td>\n",
       "      <td>7.000000</td>\n",
       "      <td>1190.000000</td>\n",
       "      <td>0.000000</td>\n",
       "      <td>1951.000000</td>\n",
       "      <td>0.000000</td>\n",
       "      <td>98033.000000</td>\n",
       "      <td>47.471100</td>\n",
       "      <td>-122.328000</td>\n",
       "      <td>1490.000000</td>\n",
       "      <td>5100.000000</td>\n",
       "    </tr>\n",
       "    <tr>\n",
       "      <th>50%</th>\n",
       "      <td>3.904930e+09</td>\n",
       "      <td>4.500000e+05</td>\n",
       "      <td>3.000000</td>\n",
       "      <td>2.250000</td>\n",
       "      <td>1910.000000</td>\n",
       "      <td>7.618000e+03</td>\n",
       "      <td>1.500000</td>\n",
       "      <td>0.000000</td>\n",
       "      <td>0.000000</td>\n",
       "      <td>3.000000</td>\n",
       "      <td>7.000000</td>\n",
       "      <td>1560.000000</td>\n",
       "      <td>0.000000</td>\n",
       "      <td>1975.000000</td>\n",
       "      <td>0.000000</td>\n",
       "      <td>98065.000000</td>\n",
       "      <td>47.571800</td>\n",
       "      <td>-122.231000</td>\n",
       "      <td>1840.000000</td>\n",
       "      <td>7620.000000</td>\n",
       "    </tr>\n",
       "    <tr>\n",
       "      <th>75%</th>\n",
       "      <td>7.308900e+09</td>\n",
       "      <td>6.450000e+05</td>\n",
       "      <td>4.000000</td>\n",
       "      <td>2.500000</td>\n",
       "      <td>2550.000000</td>\n",
       "      <td>1.068500e+04</td>\n",
       "      <td>2.000000</td>\n",
       "      <td>0.000000</td>\n",
       "      <td>0.000000</td>\n",
       "      <td>4.000000</td>\n",
       "      <td>8.000000</td>\n",
       "      <td>2210.000000</td>\n",
       "      <td>560.000000</td>\n",
       "      <td>1997.000000</td>\n",
       "      <td>0.000000</td>\n",
       "      <td>98118.000000</td>\n",
       "      <td>47.678000</td>\n",
       "      <td>-122.125000</td>\n",
       "      <td>2360.000000</td>\n",
       "      <td>10083.000000</td>\n",
       "    </tr>\n",
       "    <tr>\n",
       "      <th>max</th>\n",
       "      <td>9.900000e+09</td>\n",
       "      <td>7.700000e+06</td>\n",
       "      <td>33.000000</td>\n",
       "      <td>8.000000</td>\n",
       "      <td>13540.000000</td>\n",
       "      <td>1.651359e+06</td>\n",
       "      <td>3.500000</td>\n",
       "      <td>1.000000</td>\n",
       "      <td>4.000000</td>\n",
       "      <td>5.000000</td>\n",
       "      <td>13.000000</td>\n",
       "      <td>9410.000000</td>\n",
       "      <td>4820.000000</td>\n",
       "      <td>2015.000000</td>\n",
       "      <td>2015.000000</td>\n",
       "      <td>98199.000000</td>\n",
       "      <td>47.777600</td>\n",
       "      <td>-121.315000</td>\n",
       "      <td>6210.000000</td>\n",
       "      <td>871200.000000</td>\n",
       "    </tr>\n",
       "  </tbody>\n",
       "</table>\n",
       "</div>"
      ],
      "text/plain": [
       "                 id         price      bedrooms     bathrooms   sqft_living  \\\n",
       "count  2.159700e+04  2.159700e+04  21597.000000  21597.000000  21597.000000   \n",
       "mean   4.580474e+09  5.402966e+05      3.373200      2.115826   2080.321850   \n",
       "std    2.876736e+09  3.673681e+05      0.926299      0.768984    918.106125   \n",
       "min    1.000102e+06  7.800000e+04      1.000000      0.500000    370.000000   \n",
       "25%    2.123049e+09  3.220000e+05      3.000000      1.750000   1430.000000   \n",
       "50%    3.904930e+09  4.500000e+05      3.000000      2.250000   1910.000000   \n",
       "75%    7.308900e+09  6.450000e+05      4.000000      2.500000   2550.000000   \n",
       "max    9.900000e+09  7.700000e+06     33.000000      8.000000  13540.000000   \n",
       "\n",
       "           sqft_lot        floors    waterfront          view     condition  \\\n",
       "count  2.159700e+04  21597.000000  21597.000000  21597.000000  21597.000000   \n",
       "mean   1.509941e+04      1.494096      0.007547      0.234292      3.409825   \n",
       "std    4.141264e+04      0.539683      0.086549      0.766390      0.650546   \n",
       "min    5.200000e+02      1.000000      0.000000      0.000000      1.000000   \n",
       "25%    5.040000e+03      1.000000      0.000000      0.000000      3.000000   \n",
       "50%    7.618000e+03      1.500000      0.000000      0.000000      3.000000   \n",
       "75%    1.068500e+04      2.000000      0.000000      0.000000      4.000000   \n",
       "max    1.651359e+06      3.500000      1.000000      4.000000      5.000000   \n",
       "\n",
       "              grade    sqft_above  sqft_basement      yr_built  yr_renovated  \\\n",
       "count  21597.000000  21597.000000   21597.000000  21597.000000  21597.000000   \n",
       "mean       7.657915   1788.596842     291.725008   1970.999676     84.464787   \n",
       "std        1.173200    827.759761     442.667800     29.375234    401.821438   \n",
       "min        3.000000    370.000000       0.000000   1900.000000      0.000000   \n",
       "25%        7.000000   1190.000000       0.000000   1951.000000      0.000000   \n",
       "50%        7.000000   1560.000000       0.000000   1975.000000      0.000000   \n",
       "75%        8.000000   2210.000000     560.000000   1997.000000      0.000000   \n",
       "max       13.000000   9410.000000    4820.000000   2015.000000   2015.000000   \n",
       "\n",
       "            zipcode           lat          long  sqft_living15     sqft_lot15  \n",
       "count  21597.000000  21597.000000  21597.000000   21597.000000   21597.000000  \n",
       "mean   98077.951845     47.560093   -122.213982    1986.620318   12758.283512  \n",
       "std       53.513072      0.138552      0.140724     685.230472   27274.441950  \n",
       "min    98001.000000     47.155900   -122.519000     399.000000     651.000000  \n",
       "25%    98033.000000     47.471100   -122.328000    1490.000000    5100.000000  \n",
       "50%    98065.000000     47.571800   -122.231000    1840.000000    7620.000000  \n",
       "75%    98118.000000     47.678000   -122.125000    2360.000000   10083.000000  \n",
       "max    98199.000000     47.777600   -121.315000    6210.000000  871200.000000  "
      ]
     },
     "execution_count": 4,
     "metadata": {},
     "output_type": "execute_result"
    }
   ],
   "source": [
    "HPrice.describe()"
   ]
  },
  {
   "cell_type": "code",
   "execution_count": null,
   "id": "eb7f8afe",
   "metadata": {},
   "outputs": [],
   "source": []
  },
  {
   "cell_type": "code",
   "execution_count": 5,
   "id": "dc4ecff6",
   "metadata": {},
   "outputs": [],
   "source": [
    "from sklearn.model_selection import train_test_split\n",
    "\n",
    "train, test = train_test_split(HPrice, test_size=0.2, random_state=42)\n"
   ]
  },
  {
   "cell_type": "code",
   "execution_count": 6,
   "id": "8160e555",
   "metadata": {},
   "outputs": [
    {
     "data": {
      "text/plain": [
       "(17277, 21)"
      ]
     },
     "execution_count": 6,
     "metadata": {},
     "output_type": "execute_result"
    }
   ],
   "source": [
    "train.shape"
   ]
  },
  {
   "cell_type": "code",
   "execution_count": 7,
   "id": "e68df397",
   "metadata": {},
   "outputs": [
    {
     "data": {
      "text/plain": [
       "(4320, 21)"
      ]
     },
     "execution_count": 7,
     "metadata": {},
     "output_type": "execute_result"
    }
   ],
   "source": [
    "test.shape"
   ]
  },
  {
   "cell_type": "markdown",
   "id": "9e5d02a3",
   "metadata": {},
   "source": [
    "drop the id, date, zipcode,sqft_living15,sqft_lot15 from both dataframe train and test\n",
    "\n"
   ]
  },
  {
   "cell_type": "code",
   "execution_count": 8,
   "id": "7090d810",
   "metadata": {},
   "outputs": [],
   "source": [
    "# Drop the columns from the train DataFrame\n",
    "train.drop(['id', 'date', 'zipcode', 'sqft_living15', 'sqft_lot15'], axis=1, inplace=True)\n",
    "\n",
    "# Drop the columns from the test DataFrame\n",
    "test.drop(['id', 'date', 'zipcode', 'sqft_living15', 'sqft_lot15'], axis=1, inplace=True)\n"
   ]
  },
  {
   "cell_type": "code",
   "execution_count": null,
   "id": "a58976ae",
   "metadata": {},
   "outputs": [],
   "source": []
  },
  {
   "cell_type": "markdown",
   "id": "69d7983e",
   "metadata": {},
   "source": [
    "replace the bathroom column with the celing value and modify the existing column for both train and test test "
   ]
  },
  {
   "cell_type": "code",
   "execution_count": 9,
   "id": "f5486f5a",
   "metadata": {},
   "outputs": [],
   "source": [
    "import numpy as np\n",
    "\n",
    "# Replace the 'bathrooms' column in the train DataFrame\n",
    "train['bathrooms'] = np.ceil(train['bathrooms'])\n",
    "\n",
    "# Replace the 'bathrooms' column in the test DataFrame\n",
    "test['bathrooms'] = np.ceil(test['bathrooms'])\n"
   ]
  },
  {
   "cell_type": "code",
   "execution_count": 10,
   "id": "6cb4f5a9",
   "metadata": {},
   "outputs": [
    {
     "data": {
      "text/html": [
       "<div>\n",
       "<style scoped>\n",
       "    .dataframe tbody tr th:only-of-type {\n",
       "        vertical-align: middle;\n",
       "    }\n",
       "\n",
       "    .dataframe tbody tr th {\n",
       "        vertical-align: top;\n",
       "    }\n",
       "\n",
       "    .dataframe thead th {\n",
       "        text-align: right;\n",
       "    }\n",
       "</style>\n",
       "<table border=\"1\" class=\"dataframe\">\n",
       "  <thead>\n",
       "    <tr style=\"text-align: right;\">\n",
       "      <th></th>\n",
       "      <th>price</th>\n",
       "      <th>bedrooms</th>\n",
       "      <th>bathrooms</th>\n",
       "      <th>sqft_living</th>\n",
       "      <th>sqft_lot</th>\n",
       "      <th>floors</th>\n",
       "      <th>waterfront</th>\n",
       "      <th>view</th>\n",
       "      <th>condition</th>\n",
       "      <th>grade</th>\n",
       "      <th>sqft_above</th>\n",
       "      <th>sqft_basement</th>\n",
       "      <th>yr_built</th>\n",
       "      <th>yr_renovated</th>\n",
       "      <th>lat</th>\n",
       "      <th>long</th>\n",
       "    </tr>\n",
       "  </thead>\n",
       "  <tbody>\n",
       "    <tr>\n",
       "      <th>6243</th>\n",
       "      <td>332500.0</td>\n",
       "      <td>4</td>\n",
       "      <td>2.0</td>\n",
       "      <td>1440</td>\n",
       "      <td>4855</td>\n",
       "      <td>2.0</td>\n",
       "      <td>0</td>\n",
       "      <td>0</td>\n",
       "      <td>4</td>\n",
       "      <td>7</td>\n",
       "      <td>1440</td>\n",
       "      <td>0</td>\n",
       "      <td>1972</td>\n",
       "      <td>0</td>\n",
       "      <td>47.5717</td>\n",
       "      <td>-122.287</td>\n",
       "    </tr>\n",
       "    <tr>\n",
       "      <th>8986</th>\n",
       "      <td>390000.0</td>\n",
       "      <td>3</td>\n",
       "      <td>2.0</td>\n",
       "      <td>1430</td>\n",
       "      <td>9857</td>\n",
       "      <td>1.0</td>\n",
       "      <td>0</td>\n",
       "      <td>2</td>\n",
       "      <td>4</td>\n",
       "      <td>7</td>\n",
       "      <td>1140</td>\n",
       "      <td>290</td>\n",
       "      <td>1980</td>\n",
       "      <td>0</td>\n",
       "      <td>47.4964</td>\n",
       "      <td>-121.771</td>\n",
       "    </tr>\n",
       "    <tr>\n",
       "      <th>9419</th>\n",
       "      <td>800000.0</td>\n",
       "      <td>4</td>\n",
       "      <td>3.0</td>\n",
       "      <td>3120</td>\n",
       "      <td>5000</td>\n",
       "      <td>2.0</td>\n",
       "      <td>0</td>\n",
       "      <td>0</td>\n",
       "      <td>3</td>\n",
       "      <td>9</td>\n",
       "      <td>3120</td>\n",
       "      <td>0</td>\n",
       "      <td>2010</td>\n",
       "      <td>0</td>\n",
       "      <td>47.5940</td>\n",
       "      <td>-122.062</td>\n",
       "    </tr>\n",
       "    <tr>\n",
       "      <th>10155</th>\n",
       "      <td>462000.0</td>\n",
       "      <td>4</td>\n",
       "      <td>3.0</td>\n",
       "      <td>2060</td>\n",
       "      <td>6958</td>\n",
       "      <td>1.0</td>\n",
       "      <td>0</td>\n",
       "      <td>0</td>\n",
       "      <td>3</td>\n",
       "      <td>7</td>\n",
       "      <td>1220</td>\n",
       "      <td>840</td>\n",
       "      <td>1974</td>\n",
       "      <td>0</td>\n",
       "      <td>47.7251</td>\n",
       "      <td>-122.168</td>\n",
       "    </tr>\n",
       "    <tr>\n",
       "      <th>10436</th>\n",
       "      <td>695000.0</td>\n",
       "      <td>3</td>\n",
       "      <td>2.0</td>\n",
       "      <td>2500</td>\n",
       "      <td>4080</td>\n",
       "      <td>1.5</td>\n",
       "      <td>0</td>\n",
       "      <td>0</td>\n",
       "      <td>5</td>\n",
       "      <td>7</td>\n",
       "      <td>1680</td>\n",
       "      <td>820</td>\n",
       "      <td>1922</td>\n",
       "      <td>0</td>\n",
       "      <td>47.6813</td>\n",
       "      <td>-122.346</td>\n",
       "    </tr>\n",
       "  </tbody>\n",
       "</table>\n",
       "</div>"
      ],
      "text/plain": [
       "          price  bedrooms  bathrooms  sqft_living  sqft_lot  floors  \\\n",
       "6243   332500.0         4        2.0         1440      4855     2.0   \n",
       "8986   390000.0         3        2.0         1430      9857     1.0   \n",
       "9419   800000.0         4        3.0         3120      5000     2.0   \n",
       "10155  462000.0         4        3.0         2060      6958     1.0   \n",
       "10436  695000.0         3        2.0         2500      4080     1.5   \n",
       "\n",
       "       waterfront  view  condition  grade  sqft_above  sqft_basement  \\\n",
       "6243            0     0          4      7        1440              0   \n",
       "8986            0     2          4      7        1140            290   \n",
       "9419            0     0          3      9        3120              0   \n",
       "10155           0     0          3      7        1220            840   \n",
       "10436           0     0          5      7        1680            820   \n",
       "\n",
       "       yr_built  yr_renovated      lat     long  \n",
       "6243       1972             0  47.5717 -122.287  \n",
       "8986       1980             0  47.4964 -121.771  \n",
       "9419       2010             0  47.5940 -122.062  \n",
       "10155      1974             0  47.7251 -122.168  \n",
       "10436      1922             0  47.6813 -122.346  "
      ]
     },
     "execution_count": 10,
     "metadata": {},
     "output_type": "execute_result"
    }
   ],
   "source": [
    "train.head()"
   ]
  },
  {
   "cell_type": "markdown",
   "id": "cd7cf590",
   "metadata": {},
   "source": [
    "replace the floor column with the celing value and modify the existing column for both train and test test"
   ]
  },
  {
   "cell_type": "code",
   "execution_count": 11,
   "id": "f1088975",
   "metadata": {},
   "outputs": [],
   "source": [
    "import numpy as np\n",
    "\n",
    "# Replace the 'bathrooms' column in the train DataFrame\n",
    "train['floors'] = np.ceil(train['floors'])\n",
    "\n",
    "# Replace the 'bathrooms' column in the test DataFrame\n",
    "test['floors'] = np.ceil(test['floors'])"
   ]
  },
  {
   "cell_type": "markdown",
   "id": "5020a5e8",
   "metadata": {},
   "source": [
    "change the view and condition into categorical varibales\n",
    "\n"
   ]
  },
  {
   "cell_type": "code",
   "execution_count": 13,
   "id": "d24def26",
   "metadata": {},
   "outputs": [],
   "source": [
    "# Change the type of 'view' column to categorical in the train DataFrame\n",
    "train['view'] = train['view'].astype('category')\n",
    "\n",
    "# Change the type of 'condition' column to categorical in the train DataFrame\n",
    "train['condition'] = train['condition'].astype('category')\n",
    "\n",
    "# Change the type of 'view' column to categorical in the test DataFrame\n",
    "test['view'] = test['view'].astype('category')\n",
    "\n",
    "# Change the type of 'condition' column to categorical in the test DataFrame\n",
    "test['condition'] = test['condition'].astype('category')\n"
   ]
  },
  {
   "cell_type": "markdown",
   "id": "335077c9",
   "metadata": {},
   "source": [
    "remove sqft_above"
   ]
  },
  {
   "cell_type": "code",
   "execution_count": 14,
   "id": "e27444ab",
   "metadata": {},
   "outputs": [],
   "source": [
    "# Remove the 'sqft_above' column from the train DataFrame\n",
    "train.drop('sqft_above', axis=1, inplace=True)\n",
    "\n",
    "# Remove the 'sqft_above' column from the test DataFrame\n",
    "test.drop('sqft_above', axis=1, inplace=True)\n"
   ]
  },
  {
   "cell_type": "markdown",
   "id": "c38ad0bd",
   "metadata": {},
   "source": [
    "turn sqft_basement into categorical variable with 0 Absent and other values as present"
   ]
  },
  {
   "cell_type": "code",
   "execution_count": 15,
   "id": "d29f2410",
   "metadata": {},
   "outputs": [],
   "source": [
    "# Convert 'sqft_basement' column to categorical in the train DataFrame\n",
    "train['sqft_basement'] = train['sqft_basement'].map(lambda x: 'Absent' if x == 0 else 'Present')\n",
    "\n",
    "# Convert 'sqft_basement' column to categorical in the test DataFrame\n",
    "test['sqft_basement'] = test['sqft_basement'].map(lambda x: 'Absent' if x == 0 else 'Present')\n"
   ]
  },
  {
   "cell_type": "markdown",
   "id": "bc63ba2e",
   "metadata": {},
   "source": [
    "Drop the year build column"
   ]
  },
  {
   "cell_type": "code",
   "execution_count": 16,
   "id": "b60fab3b",
   "metadata": {},
   "outputs": [],
   "source": [
    "# Drop the 'yr_built' column from the train DataFrame\n",
    "train.drop('yr_built', axis=1, inplace=True)\n",
    "\n",
    "# Drop the 'yr_built' column from the test DataFrame\n",
    "test.drop('yr_built', axis=1, inplace=True)\n"
   ]
  },
  {
   "cell_type": "markdown",
   "id": "a34cc08d",
   "metadata": {},
   "source": [
    "drop the year renovated variable also"
   ]
  },
  {
   "cell_type": "code",
   "execution_count": 17,
   "id": "137d7947",
   "metadata": {},
   "outputs": [],
   "source": [
    "# Drop the 'yr_built' column from the train DataFrame\n",
    "train.drop('yr_renovated', axis=1, inplace=True)\n",
    "\n",
    "# Drop the 'yr_built' column from the test DataFrame\n",
    "test.drop('yr_renovated', axis=1, inplace=True)"
   ]
  },
  {
   "cell_type": "code",
   "execution_count": null,
   "id": "0e6e72f4",
   "metadata": {},
   "outputs": [],
   "source": []
  },
  {
   "cell_type": "code",
   "execution_count": 18,
   "id": "f9b3ef35",
   "metadata": {},
   "outputs": [
    {
     "name": "stdout",
     "output_type": "stream",
     "text": [
      "Column: price, Type: float64\n",
      "Column: bedrooms, Type: int64\n",
      "Column: bathrooms, Type: float64\n",
      "Column: sqft_living, Type: int64\n",
      "Column: sqft_lot, Type: int64\n",
      "Column: floors, Type: float64\n",
      "Column: waterfront, Type: int64\n",
      "Column: view, Type: category\n",
      "Column: condition, Type: category\n",
      "Column: grade, Type: int64\n",
      "Column: sqft_basement, Type: object\n",
      "Column: lat, Type: float64\n",
      "Column: long, Type: float64\n"
     ]
    }
   ],
   "source": [
    "# Print column names and their types\n",
    "for column_name, column_type in train.dtypes.items():\n",
    "    print(f\"Column: {column_name}, Type: {column_type}\")"
   ]
  },
  {
   "cell_type": "code",
   "execution_count": 19,
   "id": "925b3d98",
   "metadata": {},
   "outputs": [
    {
     "name": "stdout",
     "output_type": "stream",
     "text": [
      "Column: price, Type: float64\n",
      "Column: bedrooms, Type: int64\n",
      "Column: bathrooms, Type: float64\n",
      "Column: sqft_living, Type: int64\n",
      "Column: sqft_lot, Type: int64\n",
      "Column: floors, Type: float64\n",
      "Column: waterfront, Type: int64\n",
      "Column: view, Type: category\n",
      "Column: condition, Type: category\n",
      "Column: grade, Type: int64\n",
      "Column: sqft_basement, Type: object\n",
      "Column: lat, Type: float64\n",
      "Column: long, Type: float64\n"
     ]
    }
   ],
   "source": [
    "# Print column names and their types\n",
    "for column_name, column_type in test.dtypes.items():\n",
    "    print(f\"Column: {column_name}, Type: {column_type}\")"
   ]
  },
  {
   "cell_type": "code",
   "execution_count": null,
   "id": "769937c1",
   "metadata": {},
   "outputs": [],
   "source": []
  },
  {
   "cell_type": "markdown",
   "id": "df2e0ac0",
   "metadata": {},
   "source": [
    "# Multiple Linear regression"
   ]
  },
  {
   "cell_type": "code",
   "execution_count": 20,
   "id": "46dc01e0",
   "metadata": {},
   "outputs": [],
   "source": [
    "# Separate the target variable 'price' from the feature variables in the 'train' dataset\n",
    "train_features = train[['bedrooms', 'bathrooms', 'sqft_living', 'sqft_lot', 'floors', 'waterfront', 'view', 'condition', 'grade', 'sqft_basement', 'lat', 'long']]\n",
    "train_target = train['price']\n",
    "\n",
    "test_features = train[['bedrooms', 'bathrooms', 'sqft_living', 'sqft_lot', 'floors', 'waterfront', 'view', 'condition', 'grade', 'sqft_basement', 'lat', 'long']]\n",
    "test_target = train['price']"
   ]
  },
  {
   "cell_type": "code",
   "execution_count": 21,
   "id": "c2114583",
   "metadata": {},
   "outputs": [],
   "source": [
    "# Perform one-hot encoding on the 'sqft_basement' column\n",
    "train_features = pd.get_dummies(train_features, columns=['sqft_basement'], drop_first=True)\n",
    "test_features = pd.get_dummies(test_features, columns=['sqft_basement'], drop_first=True)\n"
   ]
  },
  {
   "cell_type": "code",
   "execution_count": 22,
   "id": "a4d4149c",
   "metadata": {},
   "outputs": [],
   "source": [
    "# Convert the \"sqft_basement\" column to the \"category\" data type\n",
    "train['sqft_basement'] = train['sqft_basement'].astype('category')\n",
    "test['sqft_basement'] = test['sqft_basement'].astype('category')\n"
   ]
  },
  {
   "cell_type": "code",
   "execution_count": null,
   "id": "aed9329d",
   "metadata": {},
   "outputs": [],
   "source": []
  },
  {
   "cell_type": "code",
   "execution_count": 23,
   "id": "17d5ba73",
   "metadata": {},
   "outputs": [
    {
     "name": "stdout",
     "output_type": "stream",
     "text": [
      "Mean Squared Error: 43193022335.735664\n"
     ]
    }
   ],
   "source": [
    "import pandas as pd\n",
    "from sklearn.linear_model import LinearRegression\n",
    "from sklearn.metrics import mean_squared_error\n",
    "\n",
    "# Step 1: Prepare the data\n",
    "\n",
    "# Separate the target variable 'price' from the feature variables in the train dataset\n",
    "train_features = train[['bedrooms', 'bathrooms', 'sqft_living', 'sqft_lot', 'floors', 'waterfront', 'view', 'condition', 'grade', 'sqft_basement', 'lat', 'long']]\n",
    "train_target = train['price']\n",
    "\n",
    "# Convert categorical variables to one-hot encoded representation\n",
    "train_features_encoded = pd.get_dummies(train_features, columns=['view', 'condition', 'sqft_basement'])\n",
    "\n",
    "# Step 2: Create the feature matrix and target vector\n",
    "\n",
    "# Feature matrix from the train dataset\n",
    "X_train = train_features_encoded.values\n",
    "\n",
    "# Target vector from the train dataset\n",
    "y_train = train_target.values\n",
    "\n",
    "# Step 3: Fit the multiple regression model\n",
    "\n",
    "# Create an instance of LinearRegression model\n",
    "model = LinearRegression()\n",
    "\n",
    "# Fit the model to the feature matrix and target vector\n",
    "model.fit(X_train, y_train)\n",
    "\n",
    "# Step 4: Make predictions\n",
    "\n",
    "# Separate the feature variables from the test dataset\n",
    "test_features = test[['bedrooms', 'bathrooms', 'sqft_living', 'sqft_lot', 'floors', 'waterfront', 'view', 'condition', 'grade', 'sqft_basement', 'lat', 'long']]\n",
    "\n",
    "# Convert categorical variables to one-hot encoded representation\n",
    "test_features_encoded = pd.get_dummies(test_features, columns=['view', 'condition', 'sqft_basement'])\n",
    "\n",
    "# Feature matrix from the test dataset\n",
    "X_test = test_features_encoded.values\n",
    "\n",
    "# Make predictions on the test dataset\n",
    "predictions = model.predict(X_test)\n",
    "\n",
    "# Calculate the mean squared error (MSE) for the predictions\n",
    "mse = mean_squared_error(test['price'], predictions)\n",
    "print('Mean Squared Error:', mse)\n"
   ]
  },
  {
   "cell_type": "code",
   "execution_count": 24,
   "id": "d79ea6f9",
   "metadata": {},
   "outputs": [
    {
     "name": "stdout",
     "output_type": "stream",
     "text": [
      "RMSE (Train): 209547.94099968672\n",
      "MAE (Train): 132131.5879454676\n",
      "MAPE (Train): 26.345524053169132\n",
      "R^2 (Train): 0.6774382857846182\n",
      "RMSE (Test): 207829.31057898368\n",
      "MAE (Test): 131105.26978112647\n",
      "MAPE (Test): 26.68494941943736\n",
      "R^2 (Test): 0.6682978326663962\n"
     ]
    }
   ],
   "source": [
    "import numpy as np\n",
    "from sklearn.metrics import mean_squared_error, mean_absolute_error\n",
    "\n",
    "# Calculate predictions for train dataset\n",
    "train_predictions = model.predict(X_train)\n",
    "\n",
    "# Calculate RMSE for train dataset\n",
    "rmse_train = np.sqrt(mean_squared_error(y_train, train_predictions))\n",
    "print('RMSE (Train):', rmse_train)\n",
    "\n",
    "# Calculate MAE for train dataset\n",
    "mae_train = mean_absolute_error(y_train, train_predictions)\n",
    "print('MAE (Train):', mae_train)\n",
    "\n",
    "# Calculate MAPE for train dataset\n",
    "mape_train = np.mean(np.abs((y_train - train_predictions) / y_train)) * 100\n",
    "print('MAPE (Train):', mape_train)\n",
    "\n",
    "# Calculate R^2 for train dataset\n",
    "r2_train = model.score(X_train, y_train)\n",
    "print('R^2 (Train):', r2_train)\n",
    "\n",
    "# Calculate predictions for test dataset\n",
    "test_predictions = model.predict(X_test)\n",
    "\n",
    "# Calculate RMSE for test dataset\n",
    "rmse_test = np.sqrt(mean_squared_error(test['price'], test_predictions))\n",
    "print('RMSE (Test):', rmse_test)\n",
    "\n",
    "# Calculate MAE for test dataset\n",
    "mae_test = mean_absolute_error(test['price'], test_predictions)\n",
    "print('MAE (Test):', mae_test)\n",
    "\n",
    "# Calculate MAPE for test dataset\n",
    "mape_test = np.mean(np.abs((test['price'] - test_predictions) / test['price'])) * 100\n",
    "print('MAPE (Test):', mape_test)\n",
    "\n",
    "# Calculate R^2 for test dataset\n",
    "r2_test = model.score(X_test, test['price'])\n",
    "print('R^2 (Test):', r2_test)\n"
   ]
  },
  {
   "cell_type": "code",
   "execution_count": 25,
   "id": "a5c04948",
   "metadata": {},
   "outputs": [
    {
     "name": "stdout",
     "output_type": "stream",
     "text": [
      "R-squared Score: 0.6682978326663962\n"
     ]
    }
   ],
   "source": [
    "from sklearn.metrics import r2_score\n",
    "\n",
    "# Calculate the R-squared score for the predictions\n",
    "r2_score = r2_score(test['price'], predictions)\n",
    "print('R-squared Score:', r2_score)\n"
   ]
  },
  {
   "cell_type": "code",
   "execution_count": 26,
   "id": "6fb80870",
   "metadata": {},
   "outputs": [
    {
     "name": "stdout",
     "output_type": "stream",
     "text": [
      "bedrooms: -29616.08793826111\n",
      "bathrooms: -14368.837788880672\n",
      "sqft_living: 208.94605579969718\n",
      "sqft_lot: -0.050152937670672096\n",
      "floors: 1898.2174828554164\n",
      "waterfront: 523883.6613965544\n",
      "view: 91195.04613620172\n",
      "condition: 632089.0296802936\n",
      "grade: -228062.9888833407\n",
      "sqft_basement: -138256.6081611907\n",
      "lat: -6227.704026239801\n",
      "long: -55248.39445053374\n",
      "Intercept: -58243869.34770952\n"
     ]
    }
   ],
   "source": [
    "# Fit the model to the feature matrix and target vector\n",
    "model.fit(X_train, y_train)\n",
    "\n",
    "# Obtain the coefficients of the variables\n",
    "coefficients = model.coef_\n",
    "intercept = model.intercept_\n",
    "\n",
    "# Print the coefficients and intercept\n",
    "for feature, coefficient in zip(train_features.columns, coefficients):\n",
    "    print(f'{feature}: {coefficient}')\n",
    "\n",
    "print(f'Intercept: {intercept}')\n"
   ]
  },
  {
   "cell_type": "markdown",
   "id": "09eaddd4",
   "metadata": {},
   "source": [
    "Linearity"
   ]
  },
  {
   "cell_type": "code",
   "execution_count": 27,
   "id": "999ad6d3",
   "metadata": {
    "scrolled": true
   },
   "outputs": [
    {
     "data": {
      "image/png": "[encoded data removed]",
      "text/plain": [
       "<Figure size 640x480 with 1 Axes>"
      ]
     },
     "metadata": {},
     "output_type": "display_data"
    },
    {
     "data": {
      "image/png": "[encoded data removed]",
      "text/plain": [
       "<Figure size 640x480 with 1 Axes>"
      ]
     },
     "metadata": {},
     "output_type": "display_data"
    },
    {
     "data": {
      "image/png": "[encoded data removed]",
      "text/plain": [
       "<Figure size 640x480 with 1 Axes>"
      ]
     },
     "metadata": {},
     "output_type": "display_data"
    },
    {
     "data": {
      "image/png": "[encoded data removed]",
      "text/plain": [
       "<Figure size 640x480 with 1 Axes>"
      ]
     },
     "metadata": {},
     "output_type": "display_data"
    },
    {
     "data": {
      "image/png": "[encoded data removed]",
      "text/plain": [
       "<Figure size 640x480 with 1 Axes>"
      ]
     },
     "metadata": {},
     "output_type": "display_data"
    },
    {
     "data": {
      "image/png": "[encoded data removed]",
      "text/plain": [
       "<Figure size 640x480 with 1 Axes>"
      ]
     },
     "metadata": {},
     "output_type": "display_data"
    },
    {
     "data": {
      "image/png": "[encoded data removed]",
      "text/plain": [
       "<Figure size 640x480 with 1 Axes>"
      ]
     },
     "metadata": {},
     "output_type": "display_data"
    },
    {
     "data": {
      "image/png": "[encoded data removed]",
      "text/plain": [
       "<Figure size 640x480 with 1 Axes>"
      ]
     },
     "metadata": {},
     "output_type": "display_data"
    },
    {
     "data": {
      "image/png": "[encoded data removed]",
      "text/plain": [
       "<Figure size 640x480 with 1 Axes>"
      ]
     },
     "metadata": {},
     "output_type": "display_data"
    },
    {
     "data": {
      "image/png": "[encoded data removed]",
      "text/plain": [
       "<Figure size 640x480 with 1 Axes>"
      ]
     },
     "metadata": {},
     "output_type": "display_data"
    },
    {
     "data": {
      "image/png": "[encoded data removed]",
      "text/plain": [
       "<Figure size 640x480 with 1 Axes>"
      ]
     },
     "metadata": {},
     "output_type": "display_data"
    },
    {
     "data": {
      "image/png": "[encoded data removed]",
      "text/plain": [
       "<Figure size 640x480 with 1 Axes>"
      ]
     },
     "metadata": {},
     "output_type": "display_data"
    }
   ],
   "source": [
    "import matplotlib.pyplot as plt\n",
    "\n",
    "# Plot scatter plots of predictor variables against the response variable\n",
    "for column in train_features.columns:\n",
    "    plt.scatter(train_features[column], train_target)\n",
    "    plt.xlabel(column)\n",
    "    plt.ylabel('Price')\n",
    "    plt.show()\n"
   ]
  },
  {
   "cell_type": "markdown",
   "id": "1fa383fc",
   "metadata": {},
   "source": [
    "Independence"
   ]
  },
  {
   "cell_type": "code",
   "execution_count": 28,
   "id": "74dab494",
   "metadata": {},
   "outputs": [
    {
     "data": {
      "image/png": "[encoded data removed]",
      "text/plain": [
       "<Figure size 640x480 with 1 Axes>"
      ]
     },
     "metadata": {},
     "output_type": "display_data"
    }
   ],
   "source": [
    "# Calculate the residuals\n",
    "residuals = test['price'] - predictions\n",
    "\n",
    "# Plot scatter plot of residuals against predicted values\n",
    "plt.scatter(predictions, residuals)\n",
    "plt.xlabel('Predicted Values')\n",
    "plt.ylabel('Residuals')\n",
    "plt.axhline(y=0, color='r', linestyle='-')\n",
    "plt.show()\n"
   ]
  },
  {
   "cell_type": "markdown",
   "id": "a3c674e4",
   "metadata": {},
   "source": [
    "Homoscedasticity"
   ]
  },
  {
   "cell_type": "code",
   "execution_count": 29,
   "id": "ac5f05c8",
   "metadata": {},
   "outputs": [
    {
     "data": {
      "image/png": "[encoded data removed]",
      "text/plain": [
       "<Figure size 640x480 with 1 Axes>"
      ]
     },
     "metadata": {},
     "output_type": "display_data"
    }
   ],
   "source": [
    "# Plot scatter plot of residuals against predicted values or predictor variables\n",
    "plt.scatter(predictions, residuals)\n",
    "plt.xlabel('Predicted Values')\n",
    "plt.ylabel('Residuals')\n",
    "plt.axhline(y=0, color='r', linestyle='-')\n",
    "plt.show()\n"
   ]
  },
  {
   "cell_type": "markdown",
   "id": "ce14c8c7",
   "metadata": {},
   "source": [
    "Normality"
   ]
  },
  {
   "cell_type": "code",
   "execution_count": 30,
   "id": "411e3a9d",
   "metadata": {},
   "outputs": [
    {
     "data": {
      "image/png": "[encoded data removed]",
      "text/plain": [
       "<Figure size 640x480 with 1 Axes>"
      ]
     },
     "metadata": {},
     "output_type": "display_data"
    },
    {
     "data": {
      "image/png": "[encoded data removed]",
      "text/plain": [
       "<Figure size 640x480 with 1 Axes>"
      ]
     },
     "metadata": {},
     "output_type": "display_data"
    },
    {
     "name": "stdout",
     "output_type": "stream",
     "text": [
      "Shapiro-Wilk p-value: 0.0\n"
     ]
    }
   ],
   "source": [
    "import scipy.stats as stats\n",
    "\n",
    "# Plot histogram of residuals\n",
    "plt.hist(residuals, bins=30)\n",
    "plt.xlabel('Residuals')\n",
    "plt.ylabel('Frequency')\n",
    "plt.show()\n",
    "\n",
    "# Plot QQ plot of residuals\n",
    "stats.probplot(residuals, dist='norm', plot=plt)\n",
    "plt.xlabel('Theoretical Quantiles')\n",
    "plt.ylabel('Standardized Residuals')\n",
    "plt.show()\n",
    "\n",
    "# Perform Shapiro-Wilk test for normality\n",
    "_, p_value = stats.shapiro(residuals)\n",
    "print('Shapiro-Wilk p-value:', p_value)\n"
   ]
  },
  {
   "cell_type": "markdown",
   "id": "7d23a10f",
   "metadata": {},
   "source": [
    "Multicolinarity"
   ]
  },
  {
   "cell_type": "code",
   "execution_count": 31,
   "id": "49d10872",
   "metadata": {},
   "outputs": [
    {
     "ename": "ValueError",
     "evalue": "could not convert string to float: 'Absent'",
     "output_type": "error",
     "traceback": [
      "\u001b[1;31m---------------------------------------------------------------------------\u001b[0m",
      "\u001b[1;31mValueError\u001b[0m                                Traceback (most recent call last)",
      "\u001b[1;32m~\\AppData\\Local\\Temp\\ipykernel_4888\\151054719.py\u001b[0m in \u001b[0;36m<module>\u001b[1;34m\u001b[0m\n\u001b[0;32m      3\u001b[0m \u001b[1;33m\u001b[0m\u001b[0m\n\u001b[0;32m      4\u001b[0m \u001b[1;31m# Calculate correlation matrix\u001b[0m\u001b[1;33m\u001b[0m\u001b[1;33m\u001b[0m\u001b[0m\n\u001b[1;32m----> 5\u001b[1;33m \u001b[0mcorrelation_matrix\u001b[0m \u001b[1;33m=\u001b[0m \u001b[0mtrain_features\u001b[0m\u001b[1;33m.\u001b[0m\u001b[0mcorr\u001b[0m\u001b[1;33m(\u001b[0m\u001b[1;33m)\u001b[0m\u001b[1;33m\u001b[0m\u001b[1;33m\u001b[0m\u001b[0m\n\u001b[0m\u001b[0;32m      6\u001b[0m \u001b[1;33m\u001b[0m\u001b[0m\n\u001b[0;32m      7\u001b[0m \u001b[1;31m# Plot correlation matrix heatmap\u001b[0m\u001b[1;33m\u001b[0m\u001b[1;33m\u001b[0m\u001b[0m\n",
      "\u001b[1;32m~\\AppData\\Roaming\\Python\\Python39\\site-packages\\pandas\\core\\frame.py\u001b[0m in \u001b[0;36mcorr\u001b[1;34m(self, method, min_periods, numeric_only)\u001b[0m\n\u001b[0;32m  10052\u001b[0m         \u001b[0mcols\u001b[0m \u001b[1;33m=\u001b[0m \u001b[0mdata\u001b[0m\u001b[1;33m.\u001b[0m\u001b[0mcolumns\u001b[0m\u001b[1;33m\u001b[0m\u001b[1;33m\u001b[0m\u001b[0m\n\u001b[0;32m  10053\u001b[0m         \u001b[0midx\u001b[0m \u001b[1;33m=\u001b[0m \u001b[0mcols\u001b[0m\u001b[1;33m.\u001b[0m\u001b[0mcopy\u001b[0m\u001b[1;33m(\u001b[0m\u001b[1;33m)\u001b[0m\u001b[1;33m\u001b[0m\u001b[1;33m\u001b[0m\u001b[0m\n\u001b[1;32m> 10054\u001b[1;33m         \u001b[0mmat\u001b[0m \u001b[1;33m=\u001b[0m \u001b[0mdata\u001b[0m\u001b[1;33m.\u001b[0m\u001b[0mto_numpy\u001b[0m\u001b[1;33m(\u001b[0m\u001b[0mdtype\u001b[0m\u001b[1;33m=\u001b[0m\u001b[0mfloat\u001b[0m\u001b[1;33m,\u001b[0m \u001b[0mna_value\u001b[0m\u001b[1;33m=\u001b[0m\u001b[0mnp\u001b[0m\u001b[1;33m.\u001b[0m\u001b[0mnan\u001b[0m\u001b[1;33m,\u001b[0m \u001b[0mcopy\u001b[0m\u001b[1;33m=\u001b[0m\u001b[1;32mFalse\u001b[0m\u001b[1;33m)\u001b[0m\u001b[1;33m\u001b[0m\u001b[1;33m\u001b[0m\u001b[0m\n\u001b[0m\u001b[0;32m  10055\u001b[0m \u001b[1;33m\u001b[0m\u001b[0m\n\u001b[0;32m  10056\u001b[0m         \u001b[1;32mif\u001b[0m \u001b[0mmethod\u001b[0m \u001b[1;33m==\u001b[0m \u001b[1;34m\"pearson\"\u001b[0m\u001b[1;33m:\u001b[0m\u001b[1;33m\u001b[0m\u001b[1;33m\u001b[0m\u001b[0m\n",
      "\u001b[1;32m~\\AppData\\Roaming\\Python\\Python39\\site-packages\\pandas\\core\\frame.py\u001b[0m in \u001b[0;36mto_numpy\u001b[1;34m(self, dtype, copy, na_value)\u001b[0m\n\u001b[0;32m   1836\u001b[0m         \u001b[1;32mif\u001b[0m \u001b[0mdtype\u001b[0m \u001b[1;32mis\u001b[0m \u001b[1;32mnot\u001b[0m \u001b[1;32mNone\u001b[0m\u001b[1;33m:\u001b[0m\u001b[1;33m\u001b[0m\u001b[1;33m\u001b[0m\u001b[0m\n\u001b[0;32m   1837\u001b[0m             \u001b[0mdtype\u001b[0m \u001b[1;33m=\u001b[0m \u001b[0mnp\u001b[0m\u001b[1;33m.\u001b[0m\u001b[0mdtype\u001b[0m\u001b[1;33m(\u001b[0m\u001b[0mdtype\u001b[0m\u001b[1;33m)\u001b[0m\u001b[1;33m\u001b[0m\u001b[1;33m\u001b[0m\u001b[0m\n\u001b[1;32m-> 1838\u001b[1;33m         \u001b[0mresult\u001b[0m \u001b[1;33m=\u001b[0m \u001b[0mself\u001b[0m\u001b[1;33m.\u001b[0m\u001b[0m_mgr\u001b[0m\u001b[1;33m.\u001b[0m\u001b[0mas_array\u001b[0m\u001b[1;33m(\u001b[0m\u001b[0mdtype\u001b[0m\u001b[1;33m=\u001b[0m\u001b[0mdtype\u001b[0m\u001b[1;33m,\u001b[0m \u001b[0mcopy\u001b[0m\u001b[1;33m=\u001b[0m\u001b[0mcopy\u001b[0m\u001b[1;33m,\u001b[0m \u001b[0mna_value\u001b[0m\u001b[1;33m=\u001b[0m\u001b[0mna_value\u001b[0m\u001b[1;33m)\u001b[0m\u001b[1;33m\u001b[0m\u001b[1;33m\u001b[0m\u001b[0m\n\u001b[0m\u001b[0;32m   1839\u001b[0m         \u001b[1;32mif\u001b[0m \u001b[0mresult\u001b[0m\u001b[1;33m.\u001b[0m\u001b[0mdtype\u001b[0m \u001b[1;32mis\u001b[0m \u001b[1;32mnot\u001b[0m \u001b[0mdtype\u001b[0m\u001b[1;33m:\u001b[0m\u001b[1;33m\u001b[0m\u001b[1;33m\u001b[0m\u001b[0m\n\u001b[0;32m   1840\u001b[0m             \u001b[0mresult\u001b[0m \u001b[1;33m=\u001b[0m \u001b[0mnp\u001b[0m\u001b[1;33m.\u001b[0m\u001b[0marray\u001b[0m\u001b[1;33m(\u001b[0m\u001b[0mresult\u001b[0m\u001b[1;33m,\u001b[0m \u001b[0mdtype\u001b[0m\u001b[1;33m=\u001b[0m\u001b[0mdtype\u001b[0m\u001b[1;33m,\u001b[0m \u001b[0mcopy\u001b[0m\u001b[1;33m=\u001b[0m\u001b[1;32mFalse\u001b[0m\u001b[1;33m)\u001b[0m\u001b[1;33m\u001b[0m\u001b[1;33m\u001b[0m\u001b[0m\n",
      "\u001b[1;32m~\\AppData\\Roaming\\Python\\Python39\\site-packages\\pandas\\core\\internals\\managers.py\u001b[0m in \u001b[0;36mas_array\u001b[1;34m(self, dtype, copy, na_value)\u001b[0m\n\u001b[0;32m   1730\u001b[0m                 \u001b[0marr\u001b[0m\u001b[1;33m.\u001b[0m\u001b[0mflags\u001b[0m\u001b[1;33m.\u001b[0m\u001b[0mwriteable\u001b[0m \u001b[1;33m=\u001b[0m \u001b[1;32mFalse\u001b[0m\u001b[1;33m\u001b[0m\u001b[1;33m\u001b[0m\u001b[0m\n\u001b[0;32m   1731\u001b[0m         \u001b[1;32melse\u001b[0m\u001b[1;33m:\u001b[0m\u001b[1;33m\u001b[0m\u001b[1;33m\u001b[0m\u001b[0m\n\u001b[1;32m-> 1732\u001b[1;33m             \u001b[0marr\u001b[0m \u001b[1;33m=\u001b[0m \u001b[0mself\u001b[0m\u001b[1;33m.\u001b[0m\u001b[0m_interleave\u001b[0m\u001b[1;33m(\u001b[0m\u001b[0mdtype\u001b[0m\u001b[1;33m=\u001b[0m\u001b[0mdtype\u001b[0m\u001b[1;33m,\u001b[0m \u001b[0mna_value\u001b[0m\u001b[1;33m=\u001b[0m\u001b[0mna_value\u001b[0m\u001b[1;33m)\u001b[0m\u001b[1;33m\u001b[0m\u001b[1;33m\u001b[0m\u001b[0m\n\u001b[0m\u001b[0;32m   1733\u001b[0m             \u001b[1;31m# The underlying data was copied within _interleave, so no need\u001b[0m\u001b[1;33m\u001b[0m\u001b[1;33m\u001b[0m\u001b[0m\n\u001b[0;32m   1734\u001b[0m             \u001b[1;31m# to further copy if copy=True or setting na_value\u001b[0m\u001b[1;33m\u001b[0m\u001b[1;33m\u001b[0m\u001b[0m\n",
      "\u001b[1;32m~\\AppData\\Roaming\\Python\\Python39\\site-packages\\pandas\\core\\internals\\managers.py\u001b[0m in \u001b[0;36m_interleave\u001b[1;34m(self, dtype, na_value)\u001b[0m\n\u001b[0;32m   1786\u001b[0m                 \u001b[1;31m# error: Item \"ndarray\" of \"Union[ndarray, ExtensionArray]\" has no\u001b[0m\u001b[1;33m\u001b[0m\u001b[1;33m\u001b[0m\u001b[0m\n\u001b[0;32m   1787\u001b[0m                 \u001b[1;31m# attribute \"to_numpy\"\u001b[0m\u001b[1;33m\u001b[0m\u001b[1;33m\u001b[0m\u001b[0m\n\u001b[1;32m-> 1788\u001b[1;33m                 arr = blk.values.to_numpy(  # type: ignore[union-attr]\n\u001b[0m\u001b[0;32m   1789\u001b[0m                     \u001b[0mdtype\u001b[0m\u001b[1;33m=\u001b[0m\u001b[0mdtype\u001b[0m\u001b[1;33m,\u001b[0m\u001b[1;33m\u001b[0m\u001b[1;33m\u001b[0m\u001b[0m\n\u001b[0;32m   1790\u001b[0m                     \u001b[0mna_value\u001b[0m\u001b[1;33m=\u001b[0m\u001b[0mna_value\u001b[0m\u001b[1;33m,\u001b[0m\u001b[1;33m\u001b[0m\u001b[1;33m\u001b[0m\u001b[0m\n",
      "\u001b[1;32m~\\AppData\\Roaming\\Python\\Python39\\site-packages\\pandas\\core\\arrays\\base.py\u001b[0m in \u001b[0;36mto_numpy\u001b[1;34m(self, dtype, copy, na_value)\u001b[0m\n\u001b[0;32m    483\u001b[0m         \u001b[0mnumpy\u001b[0m\u001b[1;33m.\u001b[0m\u001b[0mndarray\u001b[0m\u001b[1;33m\u001b[0m\u001b[1;33m\u001b[0m\u001b[0m\n\u001b[0;32m    484\u001b[0m         \"\"\"\n\u001b[1;32m--> 485\u001b[1;33m         \u001b[0mresult\u001b[0m \u001b[1;33m=\u001b[0m \u001b[0mnp\u001b[0m\u001b[1;33m.\u001b[0m\u001b[0masarray\u001b[0m\u001b[1;33m(\u001b[0m\u001b[0mself\u001b[0m\u001b[1;33m,\u001b[0m \u001b[0mdtype\u001b[0m\u001b[1;33m=\u001b[0m\u001b[0mdtype\u001b[0m\u001b[1;33m)\u001b[0m\u001b[1;33m\u001b[0m\u001b[1;33m\u001b[0m\u001b[0m\n\u001b[0m\u001b[0;32m    486\u001b[0m         \u001b[1;32mif\u001b[0m \u001b[0mcopy\u001b[0m \u001b[1;32mor\u001b[0m \u001b[0mna_value\u001b[0m \u001b[1;32mis\u001b[0m \u001b[1;32mnot\u001b[0m \u001b[0mlib\u001b[0m\u001b[1;33m.\u001b[0m\u001b[0mno_default\u001b[0m\u001b[1;33m:\u001b[0m\u001b[1;33m\u001b[0m\u001b[1;33m\u001b[0m\u001b[0m\n\u001b[0;32m    487\u001b[0m             \u001b[0mresult\u001b[0m \u001b[1;33m=\u001b[0m \u001b[0mresult\u001b[0m\u001b[1;33m.\u001b[0m\u001b[0mcopy\u001b[0m\u001b[1;33m(\u001b[0m\u001b[1;33m)\u001b[0m\u001b[1;33m\u001b[0m\u001b[1;33m\u001b[0m\u001b[0m\n",
      "\u001b[1;32m~\\AppData\\Roaming\\Python\\Python39\\site-packages\\pandas\\core\\arrays\\_mixins.py\u001b[0m in \u001b[0;36mmethod\u001b[1;34m(self, *args, **kwargs)\u001b[0m\n\u001b[0;32m     84\u001b[0m     \u001b[1;32mdef\u001b[0m \u001b[0mmethod\u001b[0m\u001b[1;33m(\u001b[0m\u001b[0mself\u001b[0m\u001b[1;33m,\u001b[0m \u001b[1;33m*\u001b[0m\u001b[0margs\u001b[0m\u001b[1;33m,\u001b[0m \u001b[1;33m**\u001b[0m\u001b[0mkwargs\u001b[0m\u001b[1;33m)\u001b[0m\u001b[1;33m:\u001b[0m\u001b[1;33m\u001b[0m\u001b[1;33m\u001b[0m\u001b[0m\n\u001b[0;32m     85\u001b[0m         \u001b[1;32mif\u001b[0m \u001b[0mself\u001b[0m\u001b[1;33m.\u001b[0m\u001b[0mndim\u001b[0m \u001b[1;33m==\u001b[0m \u001b[1;36m1\u001b[0m\u001b[1;33m:\u001b[0m\u001b[1;33m\u001b[0m\u001b[1;33m\u001b[0m\u001b[0m\n\u001b[1;32m---> 86\u001b[1;33m             \u001b[1;32mreturn\u001b[0m \u001b[0mmeth\u001b[0m\u001b[1;33m(\u001b[0m\u001b[0mself\u001b[0m\u001b[1;33m,\u001b[0m \u001b[1;33m*\u001b[0m\u001b[0margs\u001b[0m\u001b[1;33m,\u001b[0m \u001b[1;33m**\u001b[0m\u001b[0mkwargs\u001b[0m\u001b[1;33m)\u001b[0m\u001b[1;33m\u001b[0m\u001b[1;33m\u001b[0m\u001b[0m\n\u001b[0m\u001b[0;32m     87\u001b[0m \u001b[1;33m\u001b[0m\u001b[0m\n\u001b[0;32m     88\u001b[0m         \u001b[0mflags\u001b[0m \u001b[1;33m=\u001b[0m \u001b[0mself\u001b[0m\u001b[1;33m.\u001b[0m\u001b[0m_ndarray\u001b[0m\u001b[1;33m.\u001b[0m\u001b[0mflags\u001b[0m\u001b[1;33m\u001b[0m\u001b[1;33m\u001b[0m\u001b[0m\n",
      "\u001b[1;32m~\\AppData\\Roaming\\Python\\Python39\\site-packages\\pandas\\core\\arrays\\categorical.py\u001b[0m in \u001b[0;36m__array__\u001b[1;34m(self, dtype)\u001b[0m\n\u001b[0;32m   1342\u001b[0m         \u001b[0mret\u001b[0m \u001b[1;33m=\u001b[0m \u001b[0mtake_nd\u001b[0m\u001b[1;33m(\u001b[0m\u001b[0mself\u001b[0m\u001b[1;33m.\u001b[0m\u001b[0mcategories\u001b[0m\u001b[1;33m.\u001b[0m\u001b[0m_values\u001b[0m\u001b[1;33m,\u001b[0m \u001b[0mself\u001b[0m\u001b[1;33m.\u001b[0m\u001b[0m_codes\u001b[0m\u001b[1;33m)\u001b[0m\u001b[1;33m\u001b[0m\u001b[1;33m\u001b[0m\u001b[0m\n\u001b[0;32m   1343\u001b[0m         \u001b[1;32mif\u001b[0m \u001b[0mdtype\u001b[0m \u001b[1;32mand\u001b[0m \u001b[1;32mnot\u001b[0m \u001b[0mis_dtype_equal\u001b[0m\u001b[1;33m(\u001b[0m\u001b[0mdtype\u001b[0m\u001b[1;33m,\u001b[0m \u001b[0mself\u001b[0m\u001b[1;33m.\u001b[0m\u001b[0mcategories\u001b[0m\u001b[1;33m.\u001b[0m\u001b[0mdtype\u001b[0m\u001b[1;33m)\u001b[0m\u001b[1;33m:\u001b[0m\u001b[1;33m\u001b[0m\u001b[1;33m\u001b[0m\u001b[0m\n\u001b[1;32m-> 1344\u001b[1;33m             \u001b[1;32mreturn\u001b[0m \u001b[0mnp\u001b[0m\u001b[1;33m.\u001b[0m\u001b[0masarray\u001b[0m\u001b[1;33m(\u001b[0m\u001b[0mret\u001b[0m\u001b[1;33m,\u001b[0m \u001b[0mdtype\u001b[0m\u001b[1;33m)\u001b[0m\u001b[1;33m\u001b[0m\u001b[1;33m\u001b[0m\u001b[0m\n\u001b[0m\u001b[0;32m   1345\u001b[0m         \u001b[1;31m# When we're a Categorical[ExtensionArray], like Interval,\u001b[0m\u001b[1;33m\u001b[0m\u001b[1;33m\u001b[0m\u001b[0m\n\u001b[0;32m   1346\u001b[0m         \u001b[1;31m# we need to ensure __array__ gets all the way to an\u001b[0m\u001b[1;33m\u001b[0m\u001b[1;33m\u001b[0m\u001b[0m\n",
      "\u001b[1;31mValueError\u001b[0m: could not convert string to float: 'Absent'"
     ]
    }
   ],
   "source": [
    "import seaborn as sns\n",
    "from statsmodels.stats.outliers_influence import variance_inflation_factor\n",
    "\n",
    "# Calculate correlation matrix\n",
    "correlation_matrix = train_features.corr()\n",
    "\n",
    "# Plot correlation matrix heatmap\n",
    "sns.heatmap(correlation_matrix, annot=True, cmap='coolwarm')\n",
    "plt.show()\n",
    "\n",
    "# Calculate variance inflation factor (VIF)\n",
    "vif = pd.DataFrame()\n",
    "vif[\"Variable\"] = train_features.columns\n",
    "vif[\"VIF\"] = [variance_inflation_factor(train_features.values, i) for i in range(train_features.shape[1])]\n",
    "print(vif)\n"
   ]
  },
  {
   "cell_type": "code",
   "execution_count": null,
   "id": "1335a530",
   "metadata": {},
   "outputs": [],
   "source": []
  },
  {
   "cell_type": "code",
   "execution_count": 37,
   "id": "bb945137",
   "metadata": {},
   "outputs": [
    {
     "ename": "ValueError",
     "evalue": "could not convert string to float: 'Absent'",
     "output_type": "error",
     "traceback": [
      "\u001b[1;31m---------------------------------------------------------------------------\u001b[0m",
      "\u001b[1;31mValueError\u001b[0m                                Traceback (most recent call last)",
      "\u001b[1;32m~\\AppData\\Local\\Temp\\ipykernel_4888\\557812142.py\u001b[0m in \u001b[0;36m<module>\u001b[1;34m\u001b[0m\n\u001b[0;32m      6\u001b[0m \u001b[1;33m\u001b[0m\u001b[0m\n\u001b[0;32m      7\u001b[0m \u001b[1;31m# Calculate correlation matrix\u001b[0m\u001b[1;33m\u001b[0m\u001b[1;33m\u001b[0m\u001b[0m\n\u001b[1;32m----> 8\u001b[1;33m \u001b[0mcorrelation_matrix\u001b[0m \u001b[1;33m=\u001b[0m \u001b[0mtrain_features\u001b[0m\u001b[1;33m.\u001b[0m\u001b[0mcorr\u001b[0m\u001b[1;33m(\u001b[0m\u001b[1;33m)\u001b[0m\u001b[1;33m\u001b[0m\u001b[1;33m\u001b[0m\u001b[0m\n\u001b[0m\u001b[0;32m      9\u001b[0m \u001b[1;33m\u001b[0m\u001b[0m\n\u001b[0;32m     10\u001b[0m \u001b[1;31m# Plot correlation matrix heatmap\u001b[0m\u001b[1;33m\u001b[0m\u001b[1;33m\u001b[0m\u001b[0m\n",
      "\u001b[1;32m~\\AppData\\Roaming\\Python\\Python39\\site-packages\\pandas\\core\\frame.py\u001b[0m in \u001b[0;36mcorr\u001b[1;34m(self, method, min_periods, numeric_only)\u001b[0m\n\u001b[0;32m  10052\u001b[0m         \u001b[0mcols\u001b[0m \u001b[1;33m=\u001b[0m \u001b[0mdata\u001b[0m\u001b[1;33m.\u001b[0m\u001b[0mcolumns\u001b[0m\u001b[1;33m\u001b[0m\u001b[1;33m\u001b[0m\u001b[0m\n\u001b[0;32m  10053\u001b[0m         \u001b[0midx\u001b[0m \u001b[1;33m=\u001b[0m \u001b[0mcols\u001b[0m\u001b[1;33m.\u001b[0m\u001b[0mcopy\u001b[0m\u001b[1;33m(\u001b[0m\u001b[1;33m)\u001b[0m\u001b[1;33m\u001b[0m\u001b[1;33m\u001b[0m\u001b[0m\n\u001b[1;32m> 10054\u001b[1;33m         \u001b[0mmat\u001b[0m \u001b[1;33m=\u001b[0m \u001b[0mdata\u001b[0m\u001b[1;33m.\u001b[0m\u001b[0mto_numpy\u001b[0m\u001b[1;33m(\u001b[0m\u001b[0mdtype\u001b[0m\u001b[1;33m=\u001b[0m\u001b[0mfloat\u001b[0m\u001b[1;33m,\u001b[0m \u001b[0mna_value\u001b[0m\u001b[1;33m=\u001b[0m\u001b[0mnp\u001b[0m\u001b[1;33m.\u001b[0m\u001b[0mnan\u001b[0m\u001b[1;33m,\u001b[0m \u001b[0mcopy\u001b[0m\u001b[1;33m=\u001b[0m\u001b[1;32mFalse\u001b[0m\u001b[1;33m)\u001b[0m\u001b[1;33m\u001b[0m\u001b[1;33m\u001b[0m\u001b[0m\n\u001b[0m\u001b[0;32m  10055\u001b[0m \u001b[1;33m\u001b[0m\u001b[0m\n\u001b[0;32m  10056\u001b[0m         \u001b[1;32mif\u001b[0m \u001b[0mmethod\u001b[0m \u001b[1;33m==\u001b[0m \u001b[1;34m\"pearson\"\u001b[0m\u001b[1;33m:\u001b[0m\u001b[1;33m\u001b[0m\u001b[1;33m\u001b[0m\u001b[0m\n",
      "\u001b[1;32m~\\AppData\\Roaming\\Python\\Python39\\site-packages\\pandas\\core\\frame.py\u001b[0m in \u001b[0;36mto_numpy\u001b[1;34m(self, dtype, copy, na_value)\u001b[0m\n\u001b[0;32m   1836\u001b[0m         \u001b[1;32mif\u001b[0m \u001b[0mdtype\u001b[0m \u001b[1;32mis\u001b[0m \u001b[1;32mnot\u001b[0m \u001b[1;32mNone\u001b[0m\u001b[1;33m:\u001b[0m\u001b[1;33m\u001b[0m\u001b[1;33m\u001b[0m\u001b[0m\n\u001b[0;32m   1837\u001b[0m             \u001b[0mdtype\u001b[0m \u001b[1;33m=\u001b[0m \u001b[0mnp\u001b[0m\u001b[1;33m.\u001b[0m\u001b[0mdtype\u001b[0m\u001b[1;33m(\u001b[0m\u001b[0mdtype\u001b[0m\u001b[1;33m)\u001b[0m\u001b[1;33m\u001b[0m\u001b[1;33m\u001b[0m\u001b[0m\n\u001b[1;32m-> 1838\u001b[1;33m         \u001b[0mresult\u001b[0m \u001b[1;33m=\u001b[0m \u001b[0mself\u001b[0m\u001b[1;33m.\u001b[0m\u001b[0m_mgr\u001b[0m\u001b[1;33m.\u001b[0m\u001b[0mas_array\u001b[0m\u001b[1;33m(\u001b[0m\u001b[0mdtype\u001b[0m\u001b[1;33m=\u001b[0m\u001b[0mdtype\u001b[0m\u001b[1;33m,\u001b[0m \u001b[0mcopy\u001b[0m\u001b[1;33m=\u001b[0m\u001b[0mcopy\u001b[0m\u001b[1;33m,\u001b[0m \u001b[0mna_value\u001b[0m\u001b[1;33m=\u001b[0m\u001b[0mna_value\u001b[0m\u001b[1;33m)\u001b[0m\u001b[1;33m\u001b[0m\u001b[1;33m\u001b[0m\u001b[0m\n\u001b[0m\u001b[0;32m   1839\u001b[0m         \u001b[1;32mif\u001b[0m \u001b[0mresult\u001b[0m\u001b[1;33m.\u001b[0m\u001b[0mdtype\u001b[0m \u001b[1;32mis\u001b[0m \u001b[1;32mnot\u001b[0m \u001b[0mdtype\u001b[0m\u001b[1;33m:\u001b[0m\u001b[1;33m\u001b[0m\u001b[1;33m\u001b[0m\u001b[0m\n\u001b[0;32m   1840\u001b[0m             \u001b[0mresult\u001b[0m \u001b[1;33m=\u001b[0m \u001b[0mnp\u001b[0m\u001b[1;33m.\u001b[0m\u001b[0marray\u001b[0m\u001b[1;33m(\u001b[0m\u001b[0mresult\u001b[0m\u001b[1;33m,\u001b[0m \u001b[0mdtype\u001b[0m\u001b[1;33m=\u001b[0m\u001b[0mdtype\u001b[0m\u001b[1;33m,\u001b[0m \u001b[0mcopy\u001b[0m\u001b[1;33m=\u001b[0m\u001b[1;32mFalse\u001b[0m\u001b[1;33m)\u001b[0m\u001b[1;33m\u001b[0m\u001b[1;33m\u001b[0m\u001b[0m\n",
      "\u001b[1;32m~\\AppData\\Roaming\\Python\\Python39\\site-packages\\pandas\\core\\internals\\managers.py\u001b[0m in \u001b[0;36mas_array\u001b[1;34m(self, dtype, copy, na_value)\u001b[0m\n\u001b[0;32m   1730\u001b[0m                 \u001b[0marr\u001b[0m\u001b[1;33m.\u001b[0m\u001b[0mflags\u001b[0m\u001b[1;33m.\u001b[0m\u001b[0mwriteable\u001b[0m \u001b[1;33m=\u001b[0m \u001b[1;32mFalse\u001b[0m\u001b[1;33m\u001b[0m\u001b[1;33m\u001b[0m\u001b[0m\n\u001b[0;32m   1731\u001b[0m         \u001b[1;32melse\u001b[0m\u001b[1;33m:\u001b[0m\u001b[1;33m\u001b[0m\u001b[1;33m\u001b[0m\u001b[0m\n\u001b[1;32m-> 1732\u001b[1;33m             \u001b[0marr\u001b[0m \u001b[1;33m=\u001b[0m \u001b[0mself\u001b[0m\u001b[1;33m.\u001b[0m\u001b[0m_interleave\u001b[0m\u001b[1;33m(\u001b[0m\u001b[0mdtype\u001b[0m\u001b[1;33m=\u001b[0m\u001b[0mdtype\u001b[0m\u001b[1;33m,\u001b[0m \u001b[0mna_value\u001b[0m\u001b[1;33m=\u001b[0m\u001b[0mna_value\u001b[0m\u001b[1;33m)\u001b[0m\u001b[1;33m\u001b[0m\u001b[1;33m\u001b[0m\u001b[0m\n\u001b[0m\u001b[0;32m   1733\u001b[0m             \u001b[1;31m# The underlying data was copied within _interleave, so no need\u001b[0m\u001b[1;33m\u001b[0m\u001b[1;33m\u001b[0m\u001b[0m\n\u001b[0;32m   1734\u001b[0m             \u001b[1;31m# to further copy if copy=True or setting na_value\u001b[0m\u001b[1;33m\u001b[0m\u001b[1;33m\u001b[0m\u001b[0m\n",
      "\u001b[1;32m~\\AppData\\Roaming\\Python\\Python39\\site-packages\\pandas\\core\\internals\\managers.py\u001b[0m in \u001b[0;36m_interleave\u001b[1;34m(self, dtype, na_value)\u001b[0m\n\u001b[0;32m   1786\u001b[0m                 \u001b[1;31m# error: Item \"ndarray\" of \"Union[ndarray, ExtensionArray]\" has no\u001b[0m\u001b[1;33m\u001b[0m\u001b[1;33m\u001b[0m\u001b[0m\n\u001b[0;32m   1787\u001b[0m                 \u001b[1;31m# attribute \"to_numpy\"\u001b[0m\u001b[1;33m\u001b[0m\u001b[1;33m\u001b[0m\u001b[0m\n\u001b[1;32m-> 1788\u001b[1;33m                 arr = blk.values.to_numpy(  # type: ignore[union-attr]\n\u001b[0m\u001b[0;32m   1789\u001b[0m                     \u001b[0mdtype\u001b[0m\u001b[1;33m=\u001b[0m\u001b[0mdtype\u001b[0m\u001b[1;33m,\u001b[0m\u001b[1;33m\u001b[0m\u001b[1;33m\u001b[0m\u001b[0m\n\u001b[0;32m   1790\u001b[0m                     \u001b[0mna_value\u001b[0m\u001b[1;33m=\u001b[0m\u001b[0mna_value\u001b[0m\u001b[1;33m,\u001b[0m\u001b[1;33m\u001b[0m\u001b[1;33m\u001b[0m\u001b[0m\n",
      "\u001b[1;32m~\\AppData\\Roaming\\Python\\Python39\\site-packages\\pandas\\core\\arrays\\base.py\u001b[0m in \u001b[0;36mto_numpy\u001b[1;34m(self, dtype, copy, na_value)\u001b[0m\n\u001b[0;32m    483\u001b[0m         \u001b[0mnumpy\u001b[0m\u001b[1;33m.\u001b[0m\u001b[0mndarray\u001b[0m\u001b[1;33m\u001b[0m\u001b[1;33m\u001b[0m\u001b[0m\n\u001b[0;32m    484\u001b[0m         \"\"\"\n\u001b[1;32m--> 485\u001b[1;33m         \u001b[0mresult\u001b[0m \u001b[1;33m=\u001b[0m \u001b[0mnp\u001b[0m\u001b[1;33m.\u001b[0m\u001b[0masarray\u001b[0m\u001b[1;33m(\u001b[0m\u001b[0mself\u001b[0m\u001b[1;33m,\u001b[0m \u001b[0mdtype\u001b[0m\u001b[1;33m=\u001b[0m\u001b[0mdtype\u001b[0m\u001b[1;33m)\u001b[0m\u001b[1;33m\u001b[0m\u001b[1;33m\u001b[0m\u001b[0m\n\u001b[0m\u001b[0;32m    486\u001b[0m         \u001b[1;32mif\u001b[0m \u001b[0mcopy\u001b[0m \u001b[1;32mor\u001b[0m \u001b[0mna_value\u001b[0m \u001b[1;32mis\u001b[0m \u001b[1;32mnot\u001b[0m \u001b[0mlib\u001b[0m\u001b[1;33m.\u001b[0m\u001b[0mno_default\u001b[0m\u001b[1;33m:\u001b[0m\u001b[1;33m\u001b[0m\u001b[1;33m\u001b[0m\u001b[0m\n\u001b[0;32m    487\u001b[0m             \u001b[0mresult\u001b[0m \u001b[1;33m=\u001b[0m \u001b[0mresult\u001b[0m\u001b[1;33m.\u001b[0m\u001b[0mcopy\u001b[0m\u001b[1;33m(\u001b[0m\u001b[1;33m)\u001b[0m\u001b[1;33m\u001b[0m\u001b[1;33m\u001b[0m\u001b[0m\n",
      "\u001b[1;32m~\\AppData\\Roaming\\Python\\Python39\\site-packages\\pandas\\core\\arrays\\_mixins.py\u001b[0m in \u001b[0;36mmethod\u001b[1;34m(self, *args, **kwargs)\u001b[0m\n\u001b[0;32m     84\u001b[0m     \u001b[1;32mdef\u001b[0m \u001b[0mmethod\u001b[0m\u001b[1;33m(\u001b[0m\u001b[0mself\u001b[0m\u001b[1;33m,\u001b[0m \u001b[1;33m*\u001b[0m\u001b[0margs\u001b[0m\u001b[1;33m,\u001b[0m \u001b[1;33m**\u001b[0m\u001b[0mkwargs\u001b[0m\u001b[1;33m)\u001b[0m\u001b[1;33m:\u001b[0m\u001b[1;33m\u001b[0m\u001b[1;33m\u001b[0m\u001b[0m\n\u001b[0;32m     85\u001b[0m         \u001b[1;32mif\u001b[0m \u001b[0mself\u001b[0m\u001b[1;33m.\u001b[0m\u001b[0mndim\u001b[0m \u001b[1;33m==\u001b[0m \u001b[1;36m1\u001b[0m\u001b[1;33m:\u001b[0m\u001b[1;33m\u001b[0m\u001b[1;33m\u001b[0m\u001b[0m\n\u001b[1;32m---> 86\u001b[1;33m             \u001b[1;32mreturn\u001b[0m \u001b[0mmeth\u001b[0m\u001b[1;33m(\u001b[0m\u001b[0mself\u001b[0m\u001b[1;33m,\u001b[0m \u001b[1;33m*\u001b[0m\u001b[0margs\u001b[0m\u001b[1;33m,\u001b[0m \u001b[1;33m**\u001b[0m\u001b[0mkwargs\u001b[0m\u001b[1;33m)\u001b[0m\u001b[1;33m\u001b[0m\u001b[1;33m\u001b[0m\u001b[0m\n\u001b[0m\u001b[0;32m     87\u001b[0m \u001b[1;33m\u001b[0m\u001b[0m\n\u001b[0;32m     88\u001b[0m         \u001b[0mflags\u001b[0m \u001b[1;33m=\u001b[0m \u001b[0mself\u001b[0m\u001b[1;33m.\u001b[0m\u001b[0m_ndarray\u001b[0m\u001b[1;33m.\u001b[0m\u001b[0mflags\u001b[0m\u001b[1;33m\u001b[0m\u001b[1;33m\u001b[0m\u001b[0m\n",
      "\u001b[1;32m~\\AppData\\Roaming\\Python\\Python39\\site-packages\\pandas\\core\\arrays\\categorical.py\u001b[0m in \u001b[0;36m__array__\u001b[1;34m(self, dtype)\u001b[0m\n\u001b[0;32m   1342\u001b[0m         \u001b[0mret\u001b[0m \u001b[1;33m=\u001b[0m \u001b[0mtake_nd\u001b[0m\u001b[1;33m(\u001b[0m\u001b[0mself\u001b[0m\u001b[1;33m.\u001b[0m\u001b[0mcategories\u001b[0m\u001b[1;33m.\u001b[0m\u001b[0m_values\u001b[0m\u001b[1;33m,\u001b[0m \u001b[0mself\u001b[0m\u001b[1;33m.\u001b[0m\u001b[0m_codes\u001b[0m\u001b[1;33m)\u001b[0m\u001b[1;33m\u001b[0m\u001b[1;33m\u001b[0m\u001b[0m\n\u001b[0;32m   1343\u001b[0m         \u001b[1;32mif\u001b[0m \u001b[0mdtype\u001b[0m \u001b[1;32mand\u001b[0m \u001b[1;32mnot\u001b[0m \u001b[0mis_dtype_equal\u001b[0m\u001b[1;33m(\u001b[0m\u001b[0mdtype\u001b[0m\u001b[1;33m,\u001b[0m \u001b[0mself\u001b[0m\u001b[1;33m.\u001b[0m\u001b[0mcategories\u001b[0m\u001b[1;33m.\u001b[0m\u001b[0mdtype\u001b[0m\u001b[1;33m)\u001b[0m\u001b[1;33m:\u001b[0m\u001b[1;33m\u001b[0m\u001b[1;33m\u001b[0m\u001b[0m\n\u001b[1;32m-> 1344\u001b[1;33m             \u001b[1;32mreturn\u001b[0m \u001b[0mnp\u001b[0m\u001b[1;33m.\u001b[0m\u001b[0masarray\u001b[0m\u001b[1;33m(\u001b[0m\u001b[0mret\u001b[0m\u001b[1;33m,\u001b[0m \u001b[0mdtype\u001b[0m\u001b[1;33m)\u001b[0m\u001b[1;33m\u001b[0m\u001b[1;33m\u001b[0m\u001b[0m\n\u001b[0m\u001b[0;32m   1345\u001b[0m         \u001b[1;31m# When we're a Categorical[ExtensionArray], like Interval,\u001b[0m\u001b[1;33m\u001b[0m\u001b[1;33m\u001b[0m\u001b[0m\n\u001b[0;32m   1346\u001b[0m         \u001b[1;31m# we need to ensure __array__ gets all the way to an\u001b[0m\u001b[1;33m\u001b[0m\u001b[1;33m\u001b[0m\u001b[0m\n",
      "\u001b[1;31mValueError\u001b[0m: could not convert string to float: 'Absent'"
     ]
    }
   ],
   "source": [
    "import seaborn as sns\n",
    "import pandas as pd\n",
    "import numpy as np\n",
    "from sklearn.decomposition import PCA\n",
    "from statsmodels.stats.outliers_influence import variance_inflation_factor\n",
    "\n",
    "# Calculate correlation matrix\n",
    "correlation_matrix = train_features.corr()\n",
    "\n",
    "# Plot correlation matrix heatmap\n",
    "sns.heatmap(correlation_matrix, annot=True, cmap='coolwarm')\n",
    "plt.show()\n",
    "\n",
    "# Calculate variance inflation factor (VIF)\n",
    "vif = pd.DataFrame()\n",
    "vif[\"Variable\"] = train_features.columns\n",
    "vif[\"VIF\"] = [variance_inflation_factor(train_features.values, i) for i in range(train_features.shape[1])]\n",
    "print(vif)\n",
    "\n",
    "# Apply PCA to reduce multicollinearity\n",
    "pca = PCA()\n",
    "train_features_pca = pca.fit_transform(train_features)\n",
    "\n",
    "# Create a dataframe from the transformed PCA features\n",
    "train_features_pca_df = pd.DataFrame(data=train_features_pca, columns=[f\"PC{i+1}\" for i in range(train_features_pca.shape[1])])\n",
    "\n",
    "# Calculate the correlation matrix for the transformed PCA features\n",
    "correlation_matrix_pca = train_features_pca_df.corr()\n",
    "\n",
    "# Plot correlation matrix heatmap for PCA features\n",
    "sns.heatmap(correlation_matrix_pca, annot=True, cmap='coolwarm')\n",
    "plt.show()\n",
    "\n",
    "# Calculate variance inflation factor (VIF) for PCA features\n",
    "vif_pca = pd.DataFrame()\n",
    "vif_pca[\"Variable\"] = train_features_pca_df.columns\n",
    "vif_pca[\"VIF\"] = [variance_inflation_factor(train_features_pca_df.values, i) for i in range(train_features_pca_df.shape[1])]\n",
    "print(vif_pca)\n"
   ]
  },
  {
   "cell_type": "code",
   "execution_count": null,
   "id": "76da84b8",
   "metadata": {},
   "outputs": [],
   "source": []
  },
  {
   "cell_type": "markdown",
   "id": "066498c2",
   "metadata": {},
   "source": [
    "after removing lat and long variables"
   ]
  },
  {
   "cell_type": "code",
   "execution_count": null,
   "id": "0fa47072",
   "metadata": {},
   "outputs": [],
   "source": []
  },
  {
   "cell_type": "code",
   "execution_count": 38,
   "id": "f6ab133c",
   "metadata": {},
   "outputs": [
    {
     "name": "stdout",
     "output_type": "stream",
     "text": [
      "Train RMSE: 228697.6953645976\n",
      "Train R^2: 0.6157891730042684\n",
      "Train MAE: 149974.0327096909\n",
      "Train MAPE: 31.10803234125171\n",
      "Test RMSE: 228351.08658878328\n",
      "Test R^2: 0.5995568395836046\n",
      "Test MAE: 150103.82058976727\n",
      "Test MAPE: 31.672345677717512\n"
     ]
    }
   ],
   "source": [
    "import pandas as pd\n",
    "from sklearn.linear_model import LinearRegression\n",
    "from sklearn.metrics import mean_squared_error, mean_absolute_error\n",
    "import numpy as np\n",
    "\n",
    "# Step 1: Prepare the data\n",
    "\n",
    "# Separate the target variable 'price' from the feature variables in the train dataset\n",
    "train_features = train[['bedrooms', 'bathrooms', 'sqft_living', 'sqft_lot', 'floors', 'waterfront', 'view', 'condition', 'grade', 'sqft_basement']]\n",
    "\n",
    "# Convert categorical variables to one-hot encoded representation\n",
    "train_features_encoded = pd.get_dummies(train_features, columns=['view', 'condition', 'sqft_basement'])\n",
    "\n",
    "# Step 2: Create the feature matrix and target vector\n",
    "\n",
    "# Feature matrix from the train dataset\n",
    "X_train = train_features_encoded.values\n",
    "\n",
    "# Target vector from the train dataset\n",
    "y_train = train['price'].values\n",
    "\n",
    "# Step 3: Fit the multiple regression model\n",
    "\n",
    "# Create an instance of LinearRegression model\n",
    "model = LinearRegression()\n",
    "\n",
    "# Fit the model to the feature matrix and target vector\n",
    "model.fit(X_train, y_train)\n",
    "\n",
    "# Step 4: Make predictions\n",
    "\n",
    "# Prepare the test dataset (apply the same preprocessing steps as the train dataset)\n",
    "\n",
    "# Separate the feature variables from the test dataset\n",
    "test_features = test[['bedrooms', 'bathrooms', 'sqft_living', 'sqft_lot', 'floors', 'waterfront', 'view', 'condition', 'grade', 'sqft_basement']]\n",
    "\n",
    "# Convert categorical variables to one-hot encoded representation\n",
    "test_features_encoded = pd.get_dummies(test_features, columns=['view', 'condition', 'sqft_basement'])\n",
    "\n",
    "# Feature matrix from the test dataset\n",
    "X_test = test_features_encoded.values\n",
    "\n",
    "# Make predictions on the train dataset\n",
    "train_predictions = model.predict(X_train)\n",
    "\n",
    "# Make predictions on the test dataset\n",
    "test_predictions = model.predict(X_test)\n",
    "\n",
    "# Calculate the metrics for train data\n",
    "train_rmse = np.sqrt(mean_squared_error(train['price'], train_predictions))\n",
    "train_r2 = model.score(X_train, y_train)\n",
    "train_mae = mean_absolute_error(train['price'], train_predictions)\n",
    "train_mape = np.mean(np.abs((train['price'] - train_predictions) / train['price'])) * 100\n",
    "\n",
    "# Calculate the metrics for test data\n",
    "test_rmse = np.sqrt(mean_squared_error(test['price'], test_predictions))\n",
    "test_r2 = model.score(X_test, test['price'])\n",
    "test_mae = mean_absolute_error(test['price'], test_predictions)\n",
    "test_mape = np.mean(np.abs((test['price'] - test_predictions) / test['price'])) * 100\n",
    "\n",
    "# Print the metrics\n",
    "print('Train RMSE:', train_rmse)\n",
    "print('Train R^2:', train_r2)\n",
    "print('Train MAE:', train_mae)\n",
    "print('Train MAPE:', train_mape)\n",
    "print('Test RMSE:', test_rmse)\n",
    "print('Test R^2:', test_r2)\n",
    "print('Test MAE:', test_mae)\n",
    "print('Test MAPE:', test_mape)\n"
   ]
  },
  {
   "cell_type": "code",
   "execution_count": null,
   "id": "cbe3196c",
   "metadata": {},
   "outputs": [],
   "source": []
  },
  {
   "cell_type": "code",
   "execution_count": null,
   "id": "6f864cff",
   "metadata": {},
   "outputs": [],
   "source": []
  },
  {
   "cell_type": "markdown",
   "id": "71e64257",
   "metadata": {},
   "source": [
    "Log Transformed Data"
   ]
  },
  {
   "cell_type": "code",
   "execution_count": 39,
   "id": "d2559a60",
   "metadata": {},
   "outputs": [
    {
     "name": "stdout",
     "output_type": "stream",
     "text": [
      "Train RMSE: 227076.21298738988\n",
      "Train R^2: 0.6100195165410032\n",
      "Train MAE: 139361.7680434491\n",
      "Train MAPE: 27.329476671556414\n",
      "Test RMSE: 209338.9560777623\n",
      "Test R^2: 0.6009853862684571\n",
      "Test MAE: 137948.02099685048\n",
      "Test MAPE: 27.590161256491\n"
     ]
    }
   ],
   "source": [
    "import pandas as pd\n",
    "from sklearn.linear_model import LinearRegression\n",
    "from sklearn.metrics import mean_squared_error, mean_absolute_error\n",
    "import numpy as np\n",
    "\n",
    "# Step 1: Prepare the data\n",
    "\n",
    "# Separate the target variable 'price' from the feature variables in the train dataset\n",
    "train_features = train[['bedrooms', 'bathrooms', 'sqft_living', 'sqft_lot', 'floors', 'waterfront', 'view', 'condition', 'grade', 'sqft_basement']]\n",
    "\n",
    "# Convert categorical variables to one-hot encoded representation\n",
    "train_features_encoded = pd.get_dummies(train_features, columns=['view', 'condition', 'sqft_basement'])\n",
    "\n",
    "# Apply log transformation to the target variable in the train dataset\n",
    "y_train = np.log(train['price'])\n",
    "\n",
    "# Step 2: Create the feature matrix\n",
    "\n",
    "# Feature matrix from the train dataset\n",
    "X_train = train_features_encoded.values\n",
    "\n",
    "# Step 3: Fit the multiple regression model\n",
    "\n",
    "# Create an instance of LinearRegression model\n",
    "model = LinearRegression()\n",
    "\n",
    "# Fit the model to the feature matrix and log-transformed target vector\n",
    "model.fit(X_train, y_train)\n",
    "\n",
    "# Step 4: Make predictions\n",
    "\n",
    "# Prepare the test dataset (apply the same preprocessing steps as the train dataset)\n",
    "\n",
    "# Separate the feature variables from the test dataset\n",
    "test_features = test[['bedrooms', 'bathrooms', 'sqft_living', 'sqft_lot', 'floors', 'waterfront', 'view', 'condition', 'grade', 'sqft_basement']]\n",
    "\n",
    "# Convert categorical variables to one-hot encoded representation\n",
    "test_features_encoded = pd.get_dummies(test_features, columns=['view', 'condition', 'sqft_basement'])\n",
    "\n",
    "# Feature matrix from the test dataset\n",
    "X_test = test_features_encoded.values\n",
    "\n",
    "# Make predictions on the train dataset\n",
    "train_predictions = np.exp(model.predict(X_train))\n",
    "\n",
    "# Make predictions on the test dataset\n",
    "test_predictions = np.exp(model.predict(X_test))\n",
    "\n",
    "# Calculate the metrics for train data\n",
    "train_rmse = np.sqrt(mean_squared_error(train['price'], train_predictions))\n",
    "train_r2 = model.score(X_train, y_train)\n",
    "train_mae = mean_absolute_error(train['price'], train_predictions)\n",
    "train_mape = np.mean(np.abs((train['price'] - train_predictions) / train['price'])) * 100\n",
    "\n",
    "# Calculate the metrics for test data\n",
    "test_rmse = np.sqrt(mean_squared_error(test['price'], test_predictions))\n",
    "test_r2 = model.score(X_test, np.log(test['price']))\n",
    "test_mae = mean_absolute_error(test['price'], test_predictions)\n",
    "test_mape = np.mean(np.abs((test['price'] - test_predictions) / test['price'])) * 100\n",
    "\n",
    "# Print the metrics\n",
    "print('Train RMSE:', train_rmse)\n",
    "print('Train R^2:', train_r2)\n",
    "print('Train MAE:', train_mae)\n",
    "print('Train MAPE:', train_mape)\n",
    "print('Test RMSE:', test_rmse)\n",
    "print('Test R^2:', test_r2)\n",
    "print('Test MAE:', test_mae)\n",
    "print('Test MAPE:', test_mape)\n"
   ]
  },
  {
   "cell_type": "code",
   "execution_count": 40,
   "id": "0f4d5ac2",
   "metadata": {},
   "outputs": [
    {
     "name": "stdout",
     "output_type": "stream",
     "text": [
      "                 Variable    Coefficient\n",
      "0                bedrooms  -34194.881211\n",
      "1               bathrooms  -36556.419037\n",
      "2             sqft_living     198.893071\n",
      "3                sqft_lot      -0.359145\n",
      "4                  floors   29444.864031\n",
      "5              waterfront  499901.542298\n",
      "6                   grade  107389.490599\n",
      "7                  view_0 -144212.921382\n",
      "8                  view_1    4835.800694\n",
      "9                  view_2  -63942.672287\n",
      "10                 view_3   13937.925599\n",
      "11                 view_4  189381.867375\n",
      "12            condition_1   21236.072944\n",
      "13            condition_2  -17482.772945\n",
      "14            condition_3  -63480.378856\n",
      "15            condition_4  -10068.075588\n",
      "16            condition_5   69795.154445\n",
      "17   sqft_basement_Absent  -22115.249453\n",
      "18  sqft_basement_Present   22115.249453\n"
     ]
    }
   ],
   "source": [
    "import pandas as pd\n",
    "from sklearn.linear_model import LinearRegression\n",
    "\n",
    "# Step 1: Prepare the data\n",
    "\n",
    "# Separate the target variable 'price' from the feature variables in the train dataset\n",
    "train_features = train[['bedrooms', 'bathrooms', 'sqft_living', 'sqft_lot', 'floors', 'waterfront', 'view', 'condition', 'grade', 'sqft_basement']]\n",
    "\n",
    "# Convert categorical variables to one-hot encoded representation\n",
    "train_features_encoded = pd.get_dummies(train_features, columns=['view', 'condition', 'sqft_basement'])\n",
    "\n",
    "# Step 2: Create the feature matrix and target vector\n",
    "\n",
    "# Feature matrix from the train dataset\n",
    "X_train = train_features_encoded.values\n",
    "\n",
    "# Target vector from the train dataset\n",
    "y_train = train['price'].values\n",
    "\n",
    "# Step 3: Fit the multiple regression model\n",
    "\n",
    "# Create an instance of LinearRegression model\n",
    "model = LinearRegression()\n",
    "\n",
    "# Fit the model to the feature matrix and target vector\n",
    "model.fit(X_train, y_train)\n",
    "\n",
    "# Print the coefficients of the variables\n",
    "coefficients = pd.DataFrame({'Variable': train_features_encoded.columns, 'Coefficient': model.coef_})\n",
    "print(coefficients)\n"
   ]
  },
  {
   "cell_type": "code",
   "execution_count": null,
   "id": "1653216b",
   "metadata": {},
   "outputs": [],
   "source": []
  },
  {
   "cell_type": "markdown",
   "id": "1c7d9264",
   "metadata": {},
   "source": [
    "# Ridge Regression"
   ]
  },
  {
   "cell_type": "code",
   "execution_count": 41,
   "id": "eb3bba28",
   "metadata": {},
   "outputs": [
    {
     "name": "stdout",
     "output_type": "stream",
     "text": [
      "Train RMSE: 228697.97559155457\n",
      "Train R^2: 0.6157882314443051\n",
      "Train MAE: 149977.13761405047\n",
      "Train MAPE: 31.107998863355245\n",
      "Test RMSE: 228355.09835265914\n",
      "Test R^2: 0.5995427691665028\n",
      "Test MAE: 150097.32180728466\n",
      "Test MAPE: 31.670856166885642\n",
      "                 Variable    Coefficient\n",
      "0                bedrooms  -34225.227916\n",
      "1               bathrooms  -36544.103774\n",
      "2             sqft_living     198.939278\n",
      "3                sqft_lot      -0.359175\n",
      "4                  floors   29444.704342\n",
      "5              waterfront  494995.819286\n",
      "6                   grade  107363.793597\n",
      "7                  view_0 -144519.323778\n",
      "8                  view_1    4516.826145\n",
      "9                  view_2  -64137.602037\n",
      "10                 view_3   13752.956985\n",
      "11                 view_4  190387.142684\n",
      "12            condition_1   20328.889501\n",
      "13            condition_2  -17138.951103\n",
      "14            condition_3  -63280.949414\n",
      "15            condition_4   -9864.073810\n",
      "16            condition_5   69955.084828\n",
      "17   sqft_basement_Absent  -22106.289435\n",
      "18  sqft_basement_Present   22106.289434\n"
     ]
    }
   ],
   "source": [
    "import pandas as pd\n",
    "from sklearn.linear_model import Ridge\n",
    "from sklearn.metrics import mean_squared_error, mean_absolute_error\n",
    "import numpy as np\n",
    "\n",
    "# Step 1: Prepare the data\n",
    "\n",
    "# Separate the target variable 'price' from the feature variables in the train dataset\n",
    "train_features = train[['bedrooms', 'bathrooms', 'sqft_living', 'sqft_lot', 'floors', 'waterfront', 'view', 'condition', 'grade', 'sqft_basement']]\n",
    "\n",
    "# Convert categorical variables to one-hot encoded representation\n",
    "train_features_encoded = pd.get_dummies(train_features, columns=['view', 'condition', 'sqft_basement'])\n",
    "\n",
    "# Step 2: Create the feature matrix and target vector\n",
    "\n",
    "# Feature matrix from the train dataset\n",
    "X_train = train_features_encoded.values\n",
    "\n",
    "# Target vector from the train dataset\n",
    "y_train = train['price'].values\n",
    "\n",
    "# Step 3: Fit the Ridge regression model\n",
    "\n",
    "# Create an instance of Ridge model\n",
    "alpha = 1.0  # Adjust this value to control the strength of regularization\n",
    "ridge_model = Ridge(alpha=alpha)\n",
    "\n",
    "# Fit the model to the feature matrix and target vector\n",
    "ridge_model.fit(X_train, y_train)\n",
    "\n",
    "# Step 4: Make predictions\n",
    "\n",
    "# Prepare the test dataset (apply the same preprocessing steps as the train dataset)\n",
    "\n",
    "# Separate the feature variables from the test dataset\n",
    "test_features = test[['bedrooms', 'bathrooms', 'sqft_living', 'sqft_lot', 'floors', 'waterfront', 'view', 'condition', 'grade', 'sqft_basement']]\n",
    "\n",
    "# Convert categorical variables to one-hot encoded representation\n",
    "test_features_encoded = pd.get_dummies(test_features, columns=['view', 'condition', 'sqft_basement'])\n",
    "\n",
    "# Feature matrix from the test dataset\n",
    "X_test = test_features_encoded.values\n",
    "\n",
    "# Make predictions on the train dataset\n",
    "train_predictions = ridge_model.predict(X_train)\n",
    "\n",
    "# Make predictions on the test dataset\n",
    "test_predictions = ridge_model.predict(X_test)\n",
    "\n",
    "# Calculate the metrics for train data\n",
    "train_rmse = np.sqrt(mean_squared_error(train['price'], train_predictions))\n",
    "train_r2 = ridge_model.score(X_train, y_train)\n",
    "train_mae = mean_absolute_error(train['price'], train_predictions)\n",
    "train_mape = np.mean(np.abs((train['price'] - train_predictions) / train['price'])) * 100\n",
    "\n",
    "# Calculate the metrics for test data\n",
    "test_rmse = np.sqrt(mean_squared_error(test['price'], test_predictions))\n",
    "test_r2 = ridge_model.score(X_test, test['price'])\n",
    "test_mae = mean_absolute_error(test['price'], test_predictions)\n",
    "test_mape = np.mean(np.abs((test['price'] - test_predictions) / test['price'])) * 100\n",
    "\n",
    "# Print the metrics\n",
    "print('Train RMSE:', train_rmse)\n",
    "print('Train R^2:', train_r2)\n",
    "print('Train MAE:', train_mae)\n",
    "print('Train MAPE:', train_mape)\n",
    "print('Test RMSE:', test_rmse)\n",
    "print('Test R^2:', test_r2)\n",
    "print('Test MAE:', test_mae)\n",
    "print('Test MAPE:', test_mape)\n",
    "\n",
    "# Print the coefficients of the variables\n",
    "coefficients = pd.DataFrame({'Variable': train_features_encoded.columns, 'Coefficient': ridge_model.coef_})\n",
    "print(coefficients)\n"
   ]
  },
  {
   "cell_type": "code",
   "execution_count": null,
   "id": "24e6b524",
   "metadata": {},
   "outputs": [],
   "source": []
  },
  {
   "cell_type": "markdown",
   "id": "f618cbe4",
   "metadata": {},
   "source": [
    "Log Transformed Data"
   ]
  },
  {
   "cell_type": "code",
   "execution_count": 42,
   "id": "f7e31746",
   "metadata": {},
   "outputs": [
    {
     "name": "stdout",
     "output_type": "stream",
     "text": [
      "Train RMSE: 227105.6488714028\n",
      "Train R^2: 0.6100191112573039\n",
      "Train MAE: 139361.8019469391\n",
      "Train MAPE: 27.3296272337526\n",
      "Test RMSE: 209336.2159806179\n",
      "Test R^2: 0.6010217337928834\n",
      "Test MAE: 137939.01046490023\n",
      "Test MAPE: 27.58944709111189\n"
     ]
    }
   ],
   "source": [
    "import pandas as pd\n",
    "from sklearn.linear_model import Ridge\n",
    "from sklearn.metrics import mean_squared_error, mean_absolute_error\n",
    "import numpy as np\n",
    "\n",
    "# Step 1: Prepare the data\n",
    "\n",
    "# Separate the target variable 'price' from the feature variables in the train dataset\n",
    "train_features = train[['bedrooms', 'bathrooms', 'sqft_living', 'sqft_lot', 'floors', 'waterfront', 'view', 'condition', 'grade', 'sqft_basement']]\n",
    "\n",
    "# Convert categorical variables to one-hot encoded representation\n",
    "train_features_encoded = pd.get_dummies(train_features, columns=['view', 'condition', 'sqft_basement'])\n",
    "\n",
    "# Apply log transformation to the target variable in the train dataset\n",
    "y_train = np.log(train['price'])\n",
    "\n",
    "# Step 2: Create the feature matrix and target vector\n",
    "\n",
    "# Feature matrix from the train dataset\n",
    "X_train = train_features_encoded.values\n",
    "\n",
    "# Step 3: Fit the Ridge regression model\n",
    "\n",
    "# Create an instance of Ridge model\n",
    "alpha = 1.0  # Adjust this value to control the strength of regularization\n",
    "ridge_model = Ridge(alpha=alpha)\n",
    "\n",
    "# Fit the model to the feature matrix and log-transformed target vector\n",
    "ridge_model.fit(X_train, y_train)\n",
    "\n",
    "# Step 4: Make predictions\n",
    "\n",
    "# Prepare the test dataset (apply the same preprocessing steps as the train dataset)\n",
    "\n",
    "# Separate the feature variables from the test dataset\n",
    "test_features = test[['bedrooms', 'bathrooms', 'sqft_living', 'sqft_lot', 'floors', 'waterfront', 'view', 'condition', 'grade', 'sqft_basement']]\n",
    "\n",
    "# Convert categorical variables to one-hot encoded representation\n",
    "test_features_encoded = pd.get_dummies(test_features, columns=['view', 'condition', 'sqft_basement'])\n",
    "\n",
    "# Feature matrix from the test dataset\n",
    "X_test = test_features_encoded.values\n",
    "\n",
    "# Make predictions on the train dataset\n",
    "train_predictions = np.exp(ridge_model.predict(X_train))\n",
    "\n",
    "# Make predictions on the test dataset\n",
    "test_predictions = np.exp(ridge_model.predict(X_test))\n",
    "\n",
    "# Calculate the metrics for train data\n",
    "train_rmse = np.sqrt(mean_squared_error(train['price'], train_predictions))\n",
    "train_r2 = ridge_model.score(X_train, y_train)\n",
    "train_mae = mean_absolute_error(train['price'], train_predictions)\n",
    "train_mape = np.mean(np.abs((train['price'] - train_predictions) / train['price'])) * 100\n",
    "\n",
    "# Calculate the metrics for test data\n",
    "test_rmse = np.sqrt(mean_squared_error(test['price'], test_predictions))\n",
    "test_r2 = ridge_model.score(X_test, np.log(test['price']))\n",
    "test_mae = mean_absolute_error(test['price'], test_predictions)\n",
    "test_mape = np.mean(np.abs((test['price'] - test_predictions) / test['price'])) * 100\n",
    "\n",
    "# Print the metrics\n",
    "print('Train RMSE:', train_rmse)\n",
    "print('Train R^2:', train_r2)\n",
    "print('Train MAE:', train_mae)\n",
    "print('Train MAPE:', train_mape)\n",
    "print('Test RMSE:', test_rmse)\n",
    "print('Test R^2:', test_r2)\n",
    "print('Test MAE:', test_mae)\n",
    "print('Test MAPE:', test_mape)\n"
   ]
  },
  {
   "cell_type": "code",
   "execution_count": null,
   "id": "cb86f514",
   "metadata": {},
   "outputs": [],
   "source": []
  },
  {
   "cell_type": "markdown",
   "id": "3f1d8295",
   "metadata": {},
   "source": [
    "# Lasso Regression"
   ]
  },
  {
   "cell_type": "code",
   "execution_count": 43,
   "id": "9ad6c237",
   "metadata": {},
   "outputs": [
    {
     "name": "stdout",
     "output_type": "stream",
     "text": [
      "Train RMSE: 228697.6982884073\n",
      "Train R^2: 0.6157891631803011\n",
      "Train MAE: 149974.31622323053\n",
      "Train MAPE: 31.108019958939188\n",
      "Test RMSE: 228351.42940471112\n",
      "Test R^2: 0.5995556372385781\n",
      "Test MAE: 150103.99883149084\n",
      "Test MAPE: 31.67223796079756\n"
     ]
    }
   ],
   "source": [
    "import pandas as pd\n",
    "from sklearn.linear_model import Lasso\n",
    "from sklearn.metrics import mean_squared_error, mean_absolute_error\n",
    "import numpy as np\n",
    "\n",
    "# Step 1: Prepare the data\n",
    "\n",
    "# Separate the target variable 'price' from the feature variables in the train dataset\n",
    "train_features = train[['bedrooms', 'bathrooms', 'sqft_living', 'sqft_lot', 'floors', 'waterfront', 'view', 'condition', 'grade', 'sqft_basement']]\n",
    "\n",
    "# Convert categorical variables to one-hot encoded representation\n",
    "train_features_encoded = pd.get_dummies(train_features, columns=['view', 'condition', 'sqft_basement'])\n",
    "\n",
    "# Step 2: Create the feature matrix and target vector\n",
    "\n",
    "# Feature matrix from the train dataset\n",
    "X_train = train_features_encoded.values\n",
    "\n",
    "# Target vector from the train dataset\n",
    "y_train = train['price'].values\n",
    "\n",
    "# Step 3: Fit the Lasso regression model\n",
    "\n",
    "# Create an instance of Lasso model\n",
    "alpha = 1.0  # Adjust this value to control the strength of regularization\n",
    "lasso_model = Lasso(alpha=alpha)\n",
    "\n",
    "# Fit the model to the feature matrix and target vector\n",
    "lasso_model.fit(X_train, y_train)\n",
    "\n",
    "# Step 4: Make predictions\n",
    "\n",
    "# Prepare the test dataset (apply the same preprocessing steps as the train dataset)\n",
    "\n",
    "# Separate the feature variables from the test dataset\n",
    "test_features = test[['bedrooms', 'bathrooms', 'sqft_living', 'sqft_lot', 'floors', 'waterfront', 'view', 'condition', 'grade', 'sqft_basement']]\n",
    "\n",
    "# Convert categorical variables to one-hot encoded representation\n",
    "test_features_encoded = pd.get_dummies(test_features, columns=['view', 'condition', 'sqft_basement'])\n",
    "\n",
    "# Feature matrix from the test dataset\n",
    "X_test = test_features_encoded.values\n",
    "\n",
    "# Make predictions on the train dataset\n",
    "train_predictions = lasso_model.predict(X_train)\n",
    "\n",
    "# Make predictions on the test dataset\n",
    "test_predictions = lasso_model.predict(X_test)\n",
    "\n",
    "# Calculate the metrics for train data\n",
    "train_rmse = np.sqrt(mean_squared_error(train['price'], train_predictions))\n",
    "train_r2 = lasso_model.score(X_train, y_train)\n",
    "train_mae = mean_absolute_error(train['price'], train_predictions)\n",
    "train_mape = np.mean(np.abs((train['price'] - train_predictions) / train['price'])) * 100\n",
    "\n",
    "# Calculate the metrics for test data\n",
    "test_rmse = np.sqrt(mean_squared_error(test['price'], test_predictions))\n",
    "test_r2 = lasso_model.score(X_test, test['price'])\n",
    "test_mae = mean_absolute_error(test['price'], test_predictions)\n",
    "test_mape = np.mean(np.abs((test['price'] - test_predictions) / test['price'])) * 100\n",
    "\n",
    "# Print the metrics\n",
    "print('Train RMSE:', train_rmse)\n",
    "print('Train R^2:', train_r2)\n",
    "print('Train MAE:', train_mae)\n",
    "print('Train MAPE:', train_mape)\n",
    "print('Test RMSE:', test_rmse)\n",
    "print('Test R^2:', test_r2)\n",
    "print('Test MAE:', test_mae)\n",
    "print('Test MAPE:', test_mape)\n"
   ]
  },
  {
   "cell_type": "code",
   "execution_count": null,
   "id": "afc23096",
   "metadata": {},
   "outputs": [],
   "source": []
  },
  {
   "cell_type": "markdown",
   "id": "936a8b62",
   "metadata": {},
   "source": [
    "Log Transformed data"
   ]
  },
  {
   "cell_type": "code",
   "execution_count": 44,
   "id": "35159858",
   "metadata": {},
   "outputs": [
    {
     "name": "stdout",
     "output_type": "stream",
     "text": [
      "Train RMSE: 421691.0139530355\n",
      "Train R^2: 0.4840580349855418\n",
      "Train MAE: 167767.52806364134\n",
      "Train MAPE: 32.206134468457954\n",
      "Test RMSE: 257464.79231677993\n",
      "Test R^2: 0.48218792111854214\n",
      "Test MAE: 161867.2391599738\n",
      "Test MAPE: 31.996116726973174\n"
     ]
    }
   ],
   "source": [
    "import pandas as pd\n",
    "from sklearn.linear_model import Lasso\n",
    "from sklearn.metrics import mean_squared_error, mean_absolute_error\n",
    "import numpy as np\n",
    "\n",
    "# Step 1: Prepare the data\n",
    "\n",
    "# Separate the target variable 'price' from the feature variables in the train dataset\n",
    "train_features = train[['bedrooms', 'bathrooms', 'sqft_living', 'sqft_lot', 'floors', 'waterfront', 'view', 'condition', 'grade', 'sqft_basement']]\n",
    "\n",
    "# Convert categorical variables to one-hot encoded representation\n",
    "train_features_encoded = pd.get_dummies(train_features, columns=['view', 'condition', 'sqft_basement'])\n",
    "\n",
    "# Apply log transformation to the target variable in the train dataset\n",
    "y_train = np.log(train['price'])\n",
    "\n",
    "# Step 2: Create the feature matrix and target vector\n",
    "\n",
    "# Feature matrix from the train dataset\n",
    "X_train = train_features_encoded.values\n",
    "\n",
    "# Step 3: Fit the Lasso regression model\n",
    "\n",
    "# Create an instance of Lasso model\n",
    "alpha = 1.0  # Adjust this value to control the strength of regularization\n",
    "lasso_model = Lasso(alpha=alpha)\n",
    "\n",
    "# Fit the model to the feature matrix and log-transformed target vector\n",
    "lasso_model.fit(X_train, y_train)\n",
    "\n",
    "# Step 4: Make predictions\n",
    "\n",
    "# Prepare the test dataset (apply the same preprocessing steps as the train dataset)\n",
    "\n",
    "# Separate the feature variables from the test dataset\n",
    "test_features = test[['bedrooms', 'bathrooms', 'sqft_living', 'sqft_lot', 'floors', 'waterfront', 'view', 'condition', 'grade', 'sqft_basement']]\n",
    "\n",
    "# Convert categorical variables to one-hot encoded representation\n",
    "test_features_encoded = pd.get_dummies(test_features, columns=['view', 'condition', 'sqft_basement'])\n",
    "\n",
    "# Feature matrix from the test dataset\n",
    "X_test = test_features_encoded.values\n",
    "\n",
    "# Make predictions on the train dataset\n",
    "train_predictions = np.exp(lasso_model.predict(X_train))\n",
    "\n",
    "# Make predictions on the test dataset\n",
    "test_predictions = np.exp(lasso_model.predict(X_test))\n",
    "\n",
    "# Calculate the metrics for train data\n",
    "train_rmse = np.sqrt(mean_squared_error(train['price'], train_predictions))\n",
    "train_r2 = lasso_model.score(X_train, y_train)\n",
    "train_mae = mean_absolute_error(train['price'], train_predictions)\n",
    "train_mape = np.mean(np.abs((train['price'] - train_predictions) / train['price'])) * 100\n",
    "\n",
    "# Calculate the metrics for test data\n",
    "test_rmse = np.sqrt(mean_squared_error(test['price'], test_predictions))\n",
    "test_r2 = lasso_model.score(X_test, np.log(test['price']))\n",
    "test_mae = mean_absolute_error(test['price'], test_predictions)\n",
    "test_mape = np.mean(np.abs((test['price'] - test_predictions) / test['price'])) * 100\n",
    "\n",
    "# Print the metrics\n",
    "print('Train RMSE:', train_rmse)\n",
    "print('Train R^2:', train_r2)\n",
    "print('Train MAE:', train_mae)\n",
    "print('Train MAPE:', train_mape)\n",
    "print('Test RMSE:', test_rmse)\n",
    "print('Test R^2:', test_r2)\n",
    "print('Test MAE:', test_mae)\n",
    "print('Test MAPE:', test_mape)\n"
   ]
  },
  {
   "cell_type": "code",
   "execution_count": null,
   "id": "bcd3a74c",
   "metadata": {},
   "outputs": [],
   "source": []
  },
  {
   "cell_type": "markdown",
   "id": "a2a188d0",
   "metadata": {},
   "source": [
    "# Machine Learning Models"
   ]
  },
  {
   "cell_type": "code",
   "execution_count": null,
   "id": "067e414a",
   "metadata": {},
   "outputs": [],
   "source": []
  },
  {
   "cell_type": "markdown",
   "id": "bac1b67d",
   "metadata": {},
   "source": [
    "### Random Forest"
   ]
  },
  {
   "cell_type": "code",
   "execution_count": 45,
   "id": "b46d3a57",
   "metadata": {},
   "outputs": [
    {
     "name": "stdout",
     "output_type": "stream",
     "text": [
      "Train RMSE (Random Forest): 94660.15871453422\n",
      "Train R^2 (Random Forest): 0.9341765745309928\n",
      "Train MAE (Random Forest): 60827.53208132911\n",
      "Train MAPE (Random Forest): 12.472407133574166\n",
      "Test RMSE (Random Forest): 256264.41628906535\n",
      "Test R^2 (Random Forest): 0.49567403554468803\n",
      "Test MAE (Random Forest): 164863.39745688657\n",
      "Test MAPE (Random Forest): 33.66374360458694\n"
     ]
    }
   ],
   "source": [
    "\n",
    "import pandas as pd\n",
    "from sklearn.ensemble import RandomForestRegressor\n",
    "from sklearn.metrics import mean_squared_error, mean_absolute_error\n",
    "import numpy as np\n",
    "\n",
    "# Select the most important features from the Lasso regression model\n",
    "lasso_feature_importances = lasso_model.coef_\n",
    "\n",
    "# Get the indices of the top k features (e.g., top 5)\n",
    "k = 5\n",
    "top_feature_indices = np.argsort(np.abs(lasso_feature_importances))[-k:]\n",
    "\n",
    "# Get the top k feature names\n",
    "top_features = train_features_encoded.columns[top_feature_indices]\n",
    "\n",
    "# Select the feature variables based on the top features\n",
    "train_features_rf = train_features_encoded[top_features]\n",
    "test_features_rf = test_features_encoded[top_features]\n",
    "\n",
    "# Convert categorical variables to one-hot encoded representation\n",
    "train_features_rf_encoded = pd.get_dummies(train_features_rf)\n",
    "test_features_rf_encoded = pd.get_dummies(test_features_rf)\n",
    "\n",
    "# Step 2: Create the feature matrix and target vector\n",
    "\n",
    "# Feature matrix from the train dataset\n",
    "X_train_rf = train_features_rf_encoded.values\n",
    "\n",
    "# Target vector from the train dataset\n",
    "y_train_rf = train['price'].values\n",
    "\n",
    "# Step 3: Fit the Random Forest model\n",
    "\n",
    "# Create an instance of RandomForestRegressor model\n",
    "random_forest_model = RandomForestRegressor(n_estimators=100, random_state=42)\n",
    "\n",
    "# Fit the model to the feature matrix and target vector\n",
    "random_forest_model.fit(X_train_rf, y_train_rf)\n",
    "\n",
    "# Step 4: Make predictions\n",
    "\n",
    "# Feature matrix from the test dataset\n",
    "X_test_rf = test_features_rf_encoded.values\n",
    "\n",
    "# Make predictions on the train dataset\n",
    "train_predictions_rf = random_forest_model.predict(X_train_rf)\n",
    "\n",
    "# Make predictions on the test dataset\n",
    "test_predictions_rf = random_forest_model.predict(X_test_rf)\n",
    "\n",
    "# Calculate the metrics for train data\n",
    "train_rmse_rf = np.sqrt(mean_squared_error(train['price'], train_predictions_rf))\n",
    "train_r2_rf = random_forest_model.score(X_train_rf, y_train_rf)\n",
    "train_mae_rf = mean_absolute_error(train['price'], train_predictions_rf)\n",
    "train_mape_rf = np.mean(np.abs((train['price'] - train_predictions_rf) / train['price'])) * 100\n",
    "\n",
    "# Calculate the metrics for test data\n",
    "test_rmse_rf = np.sqrt(mean_squared_error(test['price'], test_predictions_rf))\n",
    "test_r2_rf = random_forest_model.score(X_test_rf, test['price'])\n",
    "test_mae_rf = mean_absolute_error(test['price'], test_predictions_rf)\n",
    "test_mape_rf = np.mean(np.abs((test['price'] - test_predictions_rf) / test['price'])) * 100\n",
    "\n",
    "# Print the metrics\n",
    "print('Train RMSE (Random Forest):', train_rmse_rf)\n",
    "print('Train R^2 (Random Forest):', train_r2_rf)\n",
    "print('Train MAE (Random Forest):', train_mae_rf)\n",
    "print('Train MAPE (Random Forest):', train_mape_rf)\n",
    "print('Test RMSE (Random Forest):', test_rmse_rf)\n",
    "print('Test R^2 (Random Forest):', test_r2_rf)\n",
    "print('Test MAE (Random Forest):', test_mae_rf)\n",
    "print('Test MAPE (Random Forest):', test_mape_rf)\n"
   ]
  },
  {
   "cell_type": "code",
   "execution_count": null,
   "id": "2aa099cb",
   "metadata": {},
   "outputs": [],
   "source": []
  },
  {
   "cell_type": "markdown",
   "id": "15e941a9",
   "metadata": {},
   "source": [
    "Log Transformed Data "
   ]
  },
  {
   "cell_type": "code",
   "execution_count": 46,
   "id": "a3e9540e",
   "metadata": {},
   "outputs": [
    {
     "name": "stdout",
     "output_type": "stream",
     "text": [
      "Train RMSE (Random Forest): 84590.39660068926\n",
      "Train R^2 (Random Forest): 0.9466272364118733\n",
      "Train MAE (Random Forest): 50693.23969450093\n",
      "Train MAPE (Random Forest): 9.425542149512868\n",
      "Test RMSE (Random Forest): 221401.02439448665\n",
      "Test R^2 (Random Forest): 0.6134906608184156\n",
      "Test MAE (Random Forest): 134923.04460959998\n",
      "Test MAPE (Random Forest): 26.301020684465996\n"
     ]
    }
   ],
   "source": [
    "import pandas as pd\n",
    "from sklearn.ensemble import RandomForestRegressor\n",
    "from sklearn.metrics import mean_squared_error, mean_absolute_error\n",
    "import numpy as np\n",
    "\n",
    "# Step 1: Prepare the data\n",
    "\n",
    "# Separate the target variable 'price' from the feature variables in the train dataset\n",
    "train_features = train[['bedrooms', 'bathrooms', 'sqft_living', 'sqft_lot', 'floors', 'waterfront', 'view', 'condition', 'grade', 'sqft_basement']]\n",
    "\n",
    "# Convert categorical variables to one-hot encoded representation\n",
    "train_features_encoded = pd.get_dummies(train_features, columns=['view', 'condition', 'sqft_basement'])\n",
    "\n",
    "# Apply log transformation to the target variable in the train dataset\n",
    "y_train = np.log(train['price'])\n",
    "\n",
    "# Step 2: Create the feature matrix and target vector\n",
    "\n",
    "# Feature matrix from the train dataset\n",
    "X_train = train_features_encoded.values\n",
    "\n",
    "# Step 3: Fit the Random Forest model\n",
    "\n",
    "# Create an instance of RandomForestRegressor model\n",
    "random_forest_model = RandomForestRegressor(n_estimators=100, random_state=42)\n",
    "\n",
    "# Fit the model to the feature matrix and log-transformed target vector\n",
    "random_forest_model.fit(X_train, y_train)\n",
    "\n",
    "# Step 4: Make predictions\n",
    "\n",
    "# Prepare the test dataset (apply the same preprocessing steps as the train dataset)\n",
    "\n",
    "# Separate the feature variables from the test dataset\n",
    "test_features = test[['bedrooms', 'bathrooms', 'sqft_living', 'sqft_lot', 'floors', 'waterfront', 'view', 'condition', 'grade', 'sqft_basement']]\n",
    "\n",
    "# Convert categorical variables to one-hot encoded representation\n",
    "test_features_encoded = pd.get_dummies(test_features, columns=['view', 'condition', 'sqft_basement'])\n",
    "\n",
    "# Feature matrix from the test dataset\n",
    "X_test = test_features_encoded.values\n",
    "\n",
    "# Make predictions on the train dataset\n",
    "train_predictions = np.exp(random_forest_model.predict(X_train))\n",
    "\n",
    "# Make predictions on the test dataset\n",
    "test_predictions = np.exp(random_forest_model.predict(X_test))\n",
    "\n",
    "# Calculate the metrics for train data\n",
    "train_rmse = np.sqrt(mean_squared_error(train['price'], train_predictions))\n",
    "train_r2 = random_forest_model.score(X_train, y_train)\n",
    "train_mae = mean_absolute_error(train['price'], train_predictions)\n",
    "train_mape = np.mean(np.abs((train['price'] - train_predictions) / train['price'])) * 100\n",
    "\n",
    "# Calculate the metrics for test data\n",
    "test_rmse = np.sqrt(mean_squared_error(test['price'], test_predictions))\n",
    "test_r2 = random_forest_model.score(X_test, np.log(test['price']))\n",
    "test_mae = mean_absolute_error(test['price'], test_predictions)\n",
    "test_mape = np.mean(np.abs((test['price'] - test_predictions) / test['price'])) * 100\n",
    "\n",
    "# Print the metrics\n",
    "print('Train RMSE (Random Forest):', train_rmse)\n",
    "print('Train R^2 (Random Forest):', train_r2)\n",
    "print('Train MAE (Random Forest):', train_mae)\n",
    "print('Train MAPE (Random Forest):', train_mape)\n",
    "print('Test RMSE (Random Forest):', test_rmse)\n",
    "print('Test R^2 (Random Forest):', test_r2)\n",
    "print('Test MAE (Random Forest):', test_mae)\n",
    "print('Test MAPE (Random Forest):', test_mape)\n"
   ]
  },
  {
   "cell_type": "code",
   "execution_count": null,
   "id": "2b7b5564",
   "metadata": {},
   "outputs": [],
   "source": []
  },
  {
   "cell_type": "code",
   "execution_count": null,
   "id": "adaa9ede",
   "metadata": {},
   "outputs": [],
   "source": []
  },
  {
   "cell_type": "markdown",
   "id": "73d4c3d4",
   "metadata": {},
   "source": [
    "## XGBoost"
   ]
  },
  {
   "cell_type": "code",
   "execution_count": 47,
   "id": "4352517e",
   "metadata": {},
   "outputs": [
    {
     "name": "stdout",
     "output_type": "stream",
     "text": [
      "Defaulting to user installation because normal site-packages is not writeable\n",
      "Requirement already satisfied: xgboost in c:\\users\\asus\\appdata\\roaming\\python\\python39\\site-packages (1.7.6)\n",
      "Requirement already satisfied: numpy in c:\\users\\asus\\appdata\\roaming\\python\\python39\\site-packages (from xgboost) (1.24.4)\n",
      "Requirement already satisfied: scipy in d:\\setups_2\\anaconda\\lib\\site-packages (from xgboost) (1.9.1)\n",
      "Note: you may need to restart the kernel to use updated packages.\n"
     ]
    }
   ],
   "source": [
    "pip install xgboost\n"
   ]
  },
  {
   "cell_type": "code",
   "execution_count": 48,
   "id": "67e2de31",
   "metadata": {},
   "outputs": [
    {
     "name": "stdout",
     "output_type": "stream",
     "text": [
      "Train RMSE: 180629.31665510224\n",
      "Train MAE: 131240.92489472998\n",
      "Train MAPE: 0.28906778002298594\n",
      "Train R^2: 0.7603251299275964\n",
      "Test RMSE: 229598.21475371197\n",
      "Test MAE: 149177.71964337383\n",
      "Test MAPE: 0.3107543727778232\n",
      "Test R^2: 0.595170894359887\n"
     ]
    }
   ],
   "source": [
    "import pandas as pd\n",
    "import xgboost as xgb\n",
    "from sklearn.metrics import mean_squared_error, mean_absolute_error, mean_absolute_percentage_error, r2_score\n",
    "import numpy as np\n",
    "\n",
    "# Step 1: Prepare the data\n",
    "\n",
    "# Separate the target variable 'price' from the feature variables in the train dataset\n",
    "train_features = train[['bedrooms', 'bathrooms', 'sqft_living', 'sqft_lot', 'floors', 'waterfront', 'view', 'condition', 'grade', 'sqft_basement']]\n",
    "\n",
    "# Convert categorical variables to one-hot encoded representation\n",
    "train_features_encoded = pd.get_dummies(train_features, columns=['view', 'condition', 'sqft_basement'])\n",
    "\n",
    "# Step 2: Train the XGBoost model and get feature importance\n",
    "\n",
    "# Create an instance of XGBRegressor model\n",
    "xgb_model = xgb.XGBRegressor()\n",
    "\n",
    "# Fit the model to the feature matrix and target vector\n",
    "xgb_model.fit(train_features_encoded, train['price'])\n",
    "\n",
    "# Get feature importance scores\n",
    "importance_scores = xgb_model.feature_importances_\n",
    "\n",
    "# Sort the features by their importance in descending order\n",
    "sorted_features = sorted(zip(importance_scores, train_features_encoded.columns), reverse=True)\n",
    "\n",
    "# Select the top n features based on importance\n",
    "top_n_features = [feature for importance, feature in sorted_features[:5]]\n",
    "\n",
    "# Step 3: Create the feature matrix and target vector using selected features\n",
    "\n",
    "# Feature matrix from the train dataset with selected features\n",
    "X_train = train_features_encoded[top_n_features].values\n",
    "\n",
    "# Target vector from the train dataset\n",
    "y_train = train['price'].values\n",
    "\n",
    "# Step 4: Fit the XGBoost model with selected features\n",
    "\n",
    "# Create an instance of XGBRegressor model\n",
    "xgb_model_selected = xgb.XGBRegressor()\n",
    "\n",
    "# Fit the model to the feature matrix with selected features and target vector\n",
    "xgb_model_selected.fit(X_train, y_train)\n",
    "\n",
    "# Step 5: Make predictions\n",
    "\n",
    "# Prepare the test dataset (apply the same preprocessing steps as the train dataset)\n",
    "\n",
    "# Separate the feature variables from the test dataset\n",
    "test_features = test[['bedrooms', 'bathrooms', 'sqft_living', 'sqft_lot', 'floors', 'waterfront', 'view', 'condition', 'grade', 'sqft_basement']]\n",
    "\n",
    "# Convert categorical variables to one-hot encoded representation\n",
    "test_features_encoded = pd.get_dummies(test_features, columns=['view', 'condition', 'sqft_basement'])\n",
    "\n",
    "# Feature matrix from the test dataset with selected features\n",
    "X_test = test_features_encoded[top_n_features].values\n",
    "\n",
    "# Make predictions on the train dataset\n",
    "train_predictions = xgb_model_selected.predict(X_train)\n",
    "\n",
    "# Make predictions on the test dataset\n",
    "test_predictions = xgb_model_selected.predict(X_test)\n",
    "\n",
    "# Calculate the metrics for train data\n",
    "train_rmse = np.sqrt(mean_squared_error(train['price'], train_predictions))\n",
    "train_mae = mean_absolute_error(train['price'], train_predictions)\n",
    "train_mape = mean_absolute_percentage_error(train['price'], train_predictions)\n",
    "train_r2 = r2_score(train['price'], train_predictions)\n",
    "\n",
    "# Calculate the metrics for test data\n",
    "test_rmse = np.sqrt(mean_squared_error(test['price'], test_predictions))\n",
    "test_mae = mean_absolute_error(test['price'], test_predictions)\n",
    "test_mape = mean_absolute_percentage_error(test['price'], test_predictions)\n",
    "test_r2 = r2_score(test['price'], test_predictions)\n",
    "\n",
    "# Print the metrics\n",
    "print('Train RMSE:', train_rmse)\n",
    "print('Train MAE:', train_mae)\n",
    "print('Train MAPE:', train_mape)\n",
    "print('Train R^2:', train_r2)\n",
    "\n",
    "print('Test RMSE:', test_rmse)\n",
    "print('Test MAE:', test_mae)\n",
    "print('Test MAPE:', test_mape)\n",
    "print('Test R^2:', test_r2)\n",
    "\n"
   ]
  },
  {
   "cell_type": "code",
   "execution_count": null,
   "id": "a0b0c021",
   "metadata": {},
   "outputs": [],
   "source": []
  },
  {
   "cell_type": "markdown",
   "id": "edf30a3b",
   "metadata": {},
   "source": [
    "Log Transformed Data "
   ]
  },
  {
   "cell_type": "code",
   "execution_count": 49,
   "id": "c82d8e75",
   "metadata": {},
   "outputs": [
    {
     "name": "stdout",
     "output_type": "stream",
     "text": [
      "Train RMSE: 188798.84785308992\n",
      "Train MAE: 130820.42368783281\n",
      "Train MAPE: 0.2668209904628152\n",
      "Train R^2: 0.7381547487265\n",
      "Test RMSE: 225284.89728793286\n",
      "Test MAE: 145819.46494502315\n",
      "Test MAPE: 0.2891262185837619\n",
      "Test R^2: 0.6102385592505479\n"
     ]
    }
   ],
   "source": [
    "import pandas as pd\n",
    "import xgboost as xgb\n",
    "from sklearn.metrics import mean_squared_error, mean_absolute_error, mean_absolute_percentage_error, r2_score\n",
    "import numpy as np\n",
    "\n",
    "# Step 1: Prepare the data\n",
    "\n",
    "# Separate the target variable 'price' from the feature variables in the train dataset\n",
    "train_features = train[['bedrooms', 'bathrooms', 'sqft_living', 'sqft_lot', 'floors', 'waterfront', 'view', 'condition', 'grade', 'sqft_basement']]\n",
    "\n",
    "# Apply log transformation to the target variable\n",
    "train_target = np.log(train['price'])\n",
    "\n",
    "# Convert categorical variables to one-hot encoded representation\n",
    "train_features_encoded = pd.get_dummies(train_features, columns=['view', 'condition', 'sqft_basement'])\n",
    "\n",
    "# Step 2: Train the XGBoost model and get feature importance\n",
    "\n",
    "# Create an instance of XGBRegressor model\n",
    "xgb_model = xgb.XGBRegressor()\n",
    "\n",
    "# Fit the model to the feature matrix and log-transformed target vector\n",
    "xgb_model.fit(train_features_encoded, train_target)\n",
    "\n",
    "# Get feature importance scores\n",
    "importance_scores = xgb_model.feature_importances_\n",
    "\n",
    "# Sort the features by their importance in descending order\n",
    "sorted_features = sorted(zip(importance_scores, train_features_encoded.columns), reverse=True)\n",
    "\n",
    "# Select the top 5 features based on importance\n",
    "top_features = [feature for importance, feature in sorted_features[:5]]\n",
    "\n",
    "# Step 3: Create the feature matrix and target vector using selected features\n",
    "\n",
    "# Feature matrix from the train dataset with selected features\n",
    "X_train = train_features_encoded[top_features].values\n",
    "\n",
    "# Target vector from the log-transformed train dataset\n",
    "y_train = train_target.values\n",
    "\n",
    "# Step 4: Fit the XGBoost model with selected features\n",
    "\n",
    "# Create an instance of XGBRegressor model\n",
    "xgb_model_selected = xgb.XGBRegressor()\n",
    "\n",
    "# Fit the model to the feature matrix with selected features and target vector\n",
    "xgb_model_selected.fit(X_train, y_train)\n",
    "\n",
    "# Step 5: Make predictions\n",
    "\n",
    "# Prepare the test dataset (apply the same preprocessing steps as the train dataset)\n",
    "\n",
    "# Separate the feature variables from the test dataset\n",
    "test_features = test[['bedrooms', 'bathrooms', 'sqft_living', 'sqft_lot', 'floors', 'waterfront', 'view', 'condition', 'grade', 'sqft_basement']]\n",
    "\n",
    "# Apply log transformation to the target variable\n",
    "test_target = np.log(test['price'])\n",
    "\n",
    "# Convert categorical variables to one-hot encoded representation\n",
    "test_features_encoded = pd.get_dummies(test_features, columns=['view', 'condition', 'sqft_basement'])\n",
    "\n",
    "# Feature matrix from the test dataset with selected features\n",
    "X_test = test_features_encoded[top_features].values\n",
    "\n",
    "# Make predictions on the log-transformed train dataset\n",
    "train_predictions = xgb_model_selected.predict(X_train)\n",
    "\n",
    "# Make predictions on the log-transformed test dataset\n",
    "test_predictions = xgb_model_selected.predict(X_test)\n",
    "\n",
    "# Inverse log transformation of the predictions\n",
    "train_predictions = np.exp(train_predictions)\n",
    "test_predictions = np.exp(test_predictions)\n",
    "\n",
    "# Calculate the metrics for train data\n",
    "train_rmse = np.sqrt(mean_squared_error(train['price'], train_predictions))\n",
    "train_mae = mean_absolute_error(train['price'], train_predictions)\n",
    "train_mape = mean_absolute_percentage_error(train['price'], train_predictions)\n",
    "train_r2 = r2_score(train['price'], train_predictions)\n",
    "\n",
    "# Calculate the metrics for test data\n",
    "test_rmse = np.sqrt(mean_squared_error(test['price'], test_predictions))\n",
    "test_mae = mean_absolute_error(test['price'], test_predictions)\n",
    "test_mape = mean_absolute_percentage_error(test['price'], test_predictions)\n",
    "test_r2 = r2_score(test['price'], test_predictions)\n",
    "\n",
    "# Print the metrics\n",
    "print('Train RMSE:', train_rmse)\n",
    "print('Train MAE:', train_mae)\n",
    "print('Train MAPE:', train_mape)\n",
    "print('Train R^2:', train_r2)\n",
    "\n",
    "print('Test RMSE:', test_rmse)\n",
    "print('Test MAE:', test_mae)\n",
    "print('Test MAPE:', test_mape)\n",
    "print('Test R^2:', test_r2)\n"
   ]
  },
  {
   "cell_type": "code",
   "execution_count": null,
   "id": "07681605",
   "metadata": {},
   "outputs": [],
   "source": []
  },
  {
   "cell_type": "code",
   "execution_count": null,
   "id": "81fae60c",
   "metadata": {},
   "outputs": [],
   "source": []
  },
  {
   "cell_type": "code",
   "execution_count": 50,
   "id": "2fe2ad3f",
   "metadata": {},
   "outputs": [
    {
     "data": {
      "image/png": "[encoded data removed]",
      "text/plain": [
       "<Figure size 1000x600 with 1 Axes>"
      ]
     },
     "metadata": {},
     "output_type": "display_data"
    }
   ],
   "source": [
    "import pandas as pd\n",
    "import xgboost as xgb\n",
    "import matplotlib.pyplot as plt\n",
    "\n",
    "# Step 1: Prepare the data\n",
    "\n",
    "# Separate the target variable 'price' from the feature variables in the train dataset\n",
    "train_features = train[['bedrooms', 'bathrooms', 'sqft_living', 'sqft_lot', 'floors', 'waterfront', 'view', 'condition', 'grade', 'sqft_basement']]\n",
    "\n",
    "# Convert categorical variables to one-hot encoded representation\n",
    "train_features_encoded = pd.get_dummies(train_features, columns=['view', 'condition', 'sqft_basement'])\n",
    "\n",
    "# Apply log transformation to the target variable in the train dataset\n",
    "y_train = np.log(train['price'])\n",
    "\n",
    "# Step 2: Create the feature matrix and target vector\n",
    "\n",
    "# Feature matrix from the train dataset\n",
    "X_train = train_features_encoded.values\n",
    "\n",
    "# Step 3: Fit the XGBoost model and get feature importance\n",
    "\n",
    "# Create an instance of XGBoost model\n",
    "xgb_model = xgb.XGBRegressor()\n",
    "\n",
    "# Fit the model to the feature matrix and log-transformed target vector\n",
    "xgb_model.fit(X_train, y_train)\n",
    "\n",
    "# Get feature importance scores\n",
    "importance_scores = xgb_model.feature_importances_\n",
    "\n",
    "# Create a DataFrame to store the feature importance\n",
    "feature_importance_df = pd.DataFrame({'Feature': train_features_encoded.columns, 'Importance': importance_scores})\n",
    "\n",
    "# Sort the features by their importance in descending order\n",
    "feature_importance_df = feature_importance_df.sort_values('Importance', ascending=False)\n",
    "\n",
    "# Plot the feature importance\n",
    "plt.figure(figsize=(10, 6))\n",
    "plt.bar(feature_importance_df['Feature'], feature_importance_df['Importance'])\n",
    "plt.xticks(rotation=90)\n",
    "plt.xlabel('Features')\n",
    "plt.ylabel('Importance')\n",
    "plt.title('XGBoost Model - Feature Importance')\n",
    "plt.tight_layout()\n",
    "plt.show()\n"
   ]
  },
  {
   "cell_type": "code",
   "execution_count": null,
   "id": "d9e4a36b",
   "metadata": {},
   "outputs": [],
   "source": []
  },
  {
   "cell_type": "code",
   "execution_count": 51,
   "id": "78ef829f",
   "metadata": {},
   "outputs": [
    {
     "data": {
      "image/png": "[encoded data removed]",
      "text/plain": [
       "<Figure size 1000x600 with 1 Axes>"
      ]
     },
     "metadata": {},
     "output_type": "display_data"
    }
   ],
   "source": [
    "import pandas as pd\n",
    "import xgboost as xgb\n",
    "import matplotlib.pyplot as plt\n",
    "import seaborn as sns\n",
    "\n",
    "# Step 1: Prepare the data\n",
    "\n",
    "# Separate the target variable 'price' from the feature variables in the train dataset\n",
    "train_features = train[['bedrooms', 'bathrooms', 'sqft_living', 'sqft_lot', 'floors', 'waterfront', 'view', 'condition', 'grade', 'sqft_basement']]\n",
    "\n",
    "# Convert categorical variables to one-hot encoded representation\n",
    "train_features_encoded = pd.get_dummies(train_features, columns=['view', 'condition', 'sqft_basement'])\n",
    "\n",
    "# Apply log transformation to the target variable in the train dataset\n",
    "y_train = np.log(train['price'])\n",
    "\n",
    "# Step 2: Create the feature matrix and target vector\n",
    "\n",
    "# Feature matrix from the train dataset\n",
    "X_train = train_features_encoded.values\n",
    "\n",
    "# Step 3: Fit the XGBoost model and get feature importance\n",
    "\n",
    "# Create an instance of XGBoost model\n",
    "xgb_model = xgb.XGBRegressor()\n",
    "\n",
    "# Fit the model to the feature matrix and log-transformed target vector\n",
    "xgb_model.fit(X_train, y_train)\n",
    "\n",
    "# Get feature importance scores\n",
    "importance_scores = xgb_model.feature_importances_\n",
    "\n",
    "# Create a DataFrame to store the feature importance\n",
    "feature_importance_df = pd.DataFrame({'Feature': train_features_encoded.columns, 'Importance': importance_scores})\n",
    "\n",
    "# Sort the features by their importance in descending order\n",
    "feature_importance_df = feature_importance_df.sort_values('Importance', ascending=False)\n",
    "\n",
    "# Define a color palette for the bars\n",
    "colors = sns.color_palette('coolwarm', n_colors=len(feature_importance_df))\n",
    "\n",
    "# Plot the feature importance with colored bars\n",
    "plt.figure(figsize=(10, 6))\n",
    "plt.bar(feature_importance_df['Feature'], feature_importance_df['Importance'], color=colors)\n",
    "plt.xticks(rotation=90)\n",
    "plt.xlabel('Features')\n",
    "plt.ylabel('Importance')\n",
    "plt.title('XGBoost Model - Feature Importance')\n",
    "plt.tight_layout()\n",
    "plt.show()\n"
   ]
  },
  {
   "cell_type": "code",
   "execution_count": null,
   "id": "1d418e1e",
   "metadata": {},
   "outputs": [],
   "source": []
  },
  {
   "cell_type": "code",
   "execution_count": null,
   "id": "c7bb065e",
   "metadata": {},
   "outputs": [],
   "source": []
  },
  {
   "cell_type": "code",
   "execution_count": null,
   "id": "15e8c2e3",
   "metadata": {},
   "outputs": [],
   "source": []
  },
  {
   "cell_type": "code",
   "execution_count": null,
   "id": "649c03d4",
   "metadata": {},
   "outputs": [],
   "source": []
  }
 ],
 "metadata": {
  "kernelspec": {
   "display_name": "Python 3 (ipykernel)",
   "language": "python",
   "name": "python3"
  },
  "language_info": {
   "codemirror_mode": {
    "name": "ipython",
    "version": 3
   },
   "file_extension": ".py",
   "mimetype": "text/x-python",
   "name": "python",
   "nbconvert_exporter": "python",
   "pygments_lexer": "ipython3",
   "version": "3.9.13"
  }
 },
 "nbformat": 4,
 "nbformat_minor": 5
}
